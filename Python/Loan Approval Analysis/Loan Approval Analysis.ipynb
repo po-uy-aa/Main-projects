{
 "cells": [
  {
   "cell_type": "markdown",
   "metadata": {
    "id": "n0ZKqZaTWkpg"
   },
   "source": [
    "# Portfolio Part 3 - Analysis of Loan Approval Data (2024 S2)"
   ]
  },
  {
   "cell_type": "markdown",
   "metadata": {
    "id": "O9R7rVmlXaMX"
   },
   "source": [
    "## Task background\n",
    "In this Portfolio task, you will work on a new dataset named 'Loan Approval' which is a modified version from a synthetic Dataset for Risk Assessment and Loan Approval Modeling (many thanks to LORENZO ZOPPELLETTO for the sharing of this dataset). This dataset comprises 20,000 records of personal and financial data, designed to facilitate the development of predictive models for risk assessment and loan approval. In this portfolio part, you are mainly required to train classification models to determine the outcome of loan approval, indicating whether an applicant is likely to be approved or denied for a loan.\n",
    "\n",
    "The dataset includes diverse features such as demographic information, credit history, employment status, income levels, existing debt, and other relevant financial metrics, providing a comprehensive foundation for sophisticated data-driven analysis and decision-making.\n",
    "\n",
    "The dataset includes the following columns:\n",
    "\n",
    "|Column|Meaning|\n",
    "|:-----|:-----|\n",
    "|ApplicationDate| Loan application date|\n",
    "|Age| Applicant's age|\n",
    "|AnnualIncome| Yearly income|\n",
    "|CreditScore| Creditworthiness score|\n",
    "|EmploymentStatus| Job situation|\n",
    "|EducationLevel| Highest education attained|\n",
    "|Experience| Work experience|\n",
    "|LoanAmount| Requested loan size|\n",
    "|LoanDuration| Loan repayment period|\n",
    "|MaritalStatus| Applicant's marital state|\n",
    "|NumberOfDependents| Number of dependents|\n",
    "|HomeOwnershipStatus| Homeownership type|\n",
    "|MonthlyDebtPayments| Monthly debt obligations|\n",
    "|CreditCardUtilizationRate| Credit card usage percentage|\n",
    "|NumberOfOpenCreditLines| Active credit lines|\n",
    "|NumberOfCreditInquiries| Credit checks count|\n",
    "|DebtToIncomeRatio| Debt to income proportion|\n",
    "|BankruptcyHistory| Bankruptcy records|\n",
    "|LoanPurpose| Reason for loan|\n",
    "|PreviousLoanDefaults| Prior loan defaults|\n",
    "|PaymentHistory| Past payment behavior|\n",
    "|LengthOfCreditHistory| Credit history duration|\n",
    "|SavingsAccountBalance| Savings account amount|\n",
    "|CheckingAccountBalance| Checking account funds|\n",
    "|TotalAssets| Total owned assets|\n",
    "|TotalLiabilities| Total owed debts|\n",
    "|MonthlyIncome| Income per month|\n",
    "|UtilityBillsPaymentHistory| Utility payment record|\n",
    "|JobTenure| Job duration|\n",
    "|NetWorth| Total financial worth|\n",
    "|BaseInterestRate| Starting interest rate|\n",
    "|InterestRate| Applied interest rate|\n",
    "|MonthlyLoanPayment| Monthly loan payment|\n",
    "|TotalDebtToIncomeRatio| Total debt against income|\n",
    "|LoanApproved| Loan approval status|\n",
    "|RiskScore| Risk assessment score|"
   ]
  },
  {
   "cell_type": "markdown",
   "metadata": {
    "id": "o0VDQbC-es_8"
   },
   "source": [
    "## Task Description\n",
    "Your high level goal in this notebook is to build and evaluate predictive models for 'loan approval' from other available features. More specifically, you need to complete the following major tasks:\n",
    "\n",
    "1. Clean and preprocess the dataset for the downstream data analysis tasks.\n",
    "\n",
    "2. Build and evaluate logistic regression models with this datasets.\n",
    "\n",
    "3. Build and evaluate KNN models with this datasets.\n",
    "\n",
    "Note 1: While the main steps of each task have been given with the requirements, you should learn how to properly organise and comment your notebook by yourself to ensure that your notebook file is professional and readable.\n",
    "\n",
    "Note 2: You will be evaluated on the accuracy of the model, the process that you produce the results,  and your clear description and justification of your implementation. So, try your best to comment your source code to showing your understanding and critical thinking.\n"
   ]
  },
  {
   "cell_type": "markdown",
   "metadata": {},
   "source": [
    "## Load the dataset and show the basic information"
   ]
  },
  {
   "cell_type": "code",
   "metadata": {
    "ExecuteTime": {
     "end_time": "2024-10-05T12:05:45.786826Z",
     "start_time": "2024-10-05T12:05:45.697850Z"
    }
   },
   "source": [
    "import pandas as pd\n",
    "from sklearn.linear_model import LogisticRegression\n",
    "from sklearn.feature_selection import RFE\n",
    "from sklearn.metrics import accuracy_score, f1_score\n",
    "import matplotlib.pyplot as plt\n",
    "from sklearn.neighbors import KNeighborsClassifier\n",
    "from sklearn.model_selection import train_test_split, GridSearchCV\n",
    "from sklearn.feature_selection import RFECV\n",
    "import warnings \n",
    "warnings.filterwarnings('ignore')\n",
    "\n",
    "data = pd.read_csv('loan_approval.csv')\n",
    "data.head()"
   ],
   "outputs": [
    {
     "data": {
      "text/plain": [
       "  ApplicationDate   Age  AnnualIncome  CreditScore EmploymentStatus  \\\n",
       "0      2018-01-01  45.0         39948          617         Employed   \n",
       "1      2018-01-02  38.0         39709          628         Employed   \n",
       "2      2018-01-03  47.0         40724          570         Employed   \n",
       "3      2018-01-04  58.0         69084          545         Employed   \n",
       "4      2018-01-05  37.0        103264          594         Employed   \n",
       "\n",
       "  EducationLevel  Experience  LoanAmount  LoanDuration MaritalStatus  ...  \\\n",
       "0         Master          22       13152            48       Married  ...   \n",
       "1      Associate          15       26045            48        Single  ...   \n",
       "2       Bachelor          26       17627            36       Married  ...   \n",
       "3    High School          34       37898            96        Single  ...   \n",
       "4      Associate          17        9184            36       Married  ...   \n",
       "\n",
       "   MonthlyIncome UtilityBillsPaymentHistory  JobTenure  NetWorth  \\\n",
       "0    3329.000000                   0.724972         11    126928   \n",
       "1    3309.083333                   0.935132          3     43609   \n",
       "2    3393.666667                   0.872241          6      5205   \n",
       "3    5757.000000                   0.896155          5     99452   \n",
       "4    8605.333333                   0.941369          5    227019   \n",
       "\n",
       "   BaseInterestRate  InterestRate  MonthlyLoanPayment  TotalDebtToIncomeRatio  \\\n",
       "0          0.199652      0.227590          419.805992                0.181077   \n",
       "1          0.207045      0.201077          794.054238                0.389852   \n",
       "2          0.217627      0.212548          666.406688                0.462157   \n",
       "3          0.300398      0.300911         1047.506980                0.313098   \n",
       "4          0.197184      0.175990          330.179140                0.070210   \n",
       "\n",
       "  LoanApproved  RiskScore  \n",
       "0            0        NaN  \n",
       "1            0       52.0  \n",
       "2            0        NaN  \n",
       "3            0        NaN  \n",
       "4            1        NaN  \n",
       "\n",
       "[5 rows x 36 columns]"
      ],
      "text/html": [
       "<div>\n",
       "<style scoped>\n",
       "    .dataframe tbody tr th:only-of-type {\n",
       "        vertical-align: middle;\n",
       "    }\n",
       "\n",
       "    .dataframe tbody tr th {\n",
       "        vertical-align: top;\n",
       "    }\n",
       "\n",
       "    .dataframe thead th {\n",
       "        text-align: right;\n",
       "    }\n",
       "</style>\n",
       "<table border=\"1\" class=\"dataframe\">\n",
       "  <thead>\n",
       "    <tr style=\"text-align: right;\">\n",
       "      <th></th>\n",
       "      <th>ApplicationDate</th>\n",
       "      <th>Age</th>\n",
       "      <th>AnnualIncome</th>\n",
       "      <th>CreditScore</th>\n",
       "      <th>EmploymentStatus</th>\n",
       "      <th>EducationLevel</th>\n",
       "      <th>Experience</th>\n",
       "      <th>LoanAmount</th>\n",
       "      <th>LoanDuration</th>\n",
       "      <th>MaritalStatus</th>\n",
       "      <th>...</th>\n",
       "      <th>MonthlyIncome</th>\n",
       "      <th>UtilityBillsPaymentHistory</th>\n",
       "      <th>JobTenure</th>\n",
       "      <th>NetWorth</th>\n",
       "      <th>BaseInterestRate</th>\n",
       "      <th>InterestRate</th>\n",
       "      <th>MonthlyLoanPayment</th>\n",
       "      <th>TotalDebtToIncomeRatio</th>\n",
       "      <th>LoanApproved</th>\n",
       "      <th>RiskScore</th>\n",
       "    </tr>\n",
       "  </thead>\n",
       "  <tbody>\n",
       "    <tr>\n",
       "      <th>0</th>\n",
       "      <td>2018-01-01</td>\n",
       "      <td>45.0</td>\n",
       "      <td>39948</td>\n",
       "      <td>617</td>\n",
       "      <td>Employed</td>\n",
       "      <td>Master</td>\n",
       "      <td>22</td>\n",
       "      <td>13152</td>\n",
       "      <td>48</td>\n",
       "      <td>Married</td>\n",
       "      <td>...</td>\n",
       "      <td>3329.000000</td>\n",
       "      <td>0.724972</td>\n",
       "      <td>11</td>\n",
       "      <td>126928</td>\n",
       "      <td>0.199652</td>\n",
       "      <td>0.227590</td>\n",
       "      <td>419.805992</td>\n",
       "      <td>0.181077</td>\n",
       "      <td>0</td>\n",
       "      <td>NaN</td>\n",
       "    </tr>\n",
       "    <tr>\n",
       "      <th>1</th>\n",
       "      <td>2018-01-02</td>\n",
       "      <td>38.0</td>\n",
       "      <td>39709</td>\n",
       "      <td>628</td>\n",
       "      <td>Employed</td>\n",
       "      <td>Associate</td>\n",
       "      <td>15</td>\n",
       "      <td>26045</td>\n",
       "      <td>48</td>\n",
       "      <td>Single</td>\n",
       "      <td>...</td>\n",
       "      <td>3309.083333</td>\n",
       "      <td>0.935132</td>\n",
       "      <td>3</td>\n",
       "      <td>43609</td>\n",
       "      <td>0.207045</td>\n",
       "      <td>0.201077</td>\n",
       "      <td>794.054238</td>\n",
       "      <td>0.389852</td>\n",
       "      <td>0</td>\n",
       "      <td>52.0</td>\n",
       "    </tr>\n",
       "    <tr>\n",
       "      <th>2</th>\n",
       "      <td>2018-01-03</td>\n",
       "      <td>47.0</td>\n",
       "      <td>40724</td>\n",
       "      <td>570</td>\n",
       "      <td>Employed</td>\n",
       "      <td>Bachelor</td>\n",
       "      <td>26</td>\n",
       "      <td>17627</td>\n",
       "      <td>36</td>\n",
       "      <td>Married</td>\n",
       "      <td>...</td>\n",
       "      <td>3393.666667</td>\n",
       "      <td>0.872241</td>\n",
       "      <td>6</td>\n",
       "      <td>5205</td>\n",
       "      <td>0.217627</td>\n",
       "      <td>0.212548</td>\n",
       "      <td>666.406688</td>\n",
       "      <td>0.462157</td>\n",
       "      <td>0</td>\n",
       "      <td>NaN</td>\n",
       "    </tr>\n",
       "    <tr>\n",
       "      <th>3</th>\n",
       "      <td>2018-01-04</td>\n",
       "      <td>58.0</td>\n",
       "      <td>69084</td>\n",
       "      <td>545</td>\n",
       "      <td>Employed</td>\n",
       "      <td>High School</td>\n",
       "      <td>34</td>\n",
       "      <td>37898</td>\n",
       "      <td>96</td>\n",
       "      <td>Single</td>\n",
       "      <td>...</td>\n",
       "      <td>5757.000000</td>\n",
       "      <td>0.896155</td>\n",
       "      <td>5</td>\n",
       "      <td>99452</td>\n",
       "      <td>0.300398</td>\n",
       "      <td>0.300911</td>\n",
       "      <td>1047.506980</td>\n",
       "      <td>0.313098</td>\n",
       "      <td>0</td>\n",
       "      <td>NaN</td>\n",
       "    </tr>\n",
       "    <tr>\n",
       "      <th>4</th>\n",
       "      <td>2018-01-05</td>\n",
       "      <td>37.0</td>\n",
       "      <td>103264</td>\n",
       "      <td>594</td>\n",
       "      <td>Employed</td>\n",
       "      <td>Associate</td>\n",
       "      <td>17</td>\n",
       "      <td>9184</td>\n",
       "      <td>36</td>\n",
       "      <td>Married</td>\n",
       "      <td>...</td>\n",
       "      <td>8605.333333</td>\n",
       "      <td>0.941369</td>\n",
       "      <td>5</td>\n",
       "      <td>227019</td>\n",
       "      <td>0.197184</td>\n",
       "      <td>0.175990</td>\n",
       "      <td>330.179140</td>\n",
       "      <td>0.070210</td>\n",
       "      <td>1</td>\n",
       "      <td>NaN</td>\n",
       "    </tr>\n",
       "  </tbody>\n",
       "</table>\n",
       "<p>5 rows × 36 columns</p>\n",
       "</div>"
      ]
     },
     "execution_count": 70,
     "metadata": {},
     "output_type": "execute_result"
    }
   ],
   "execution_count": 70
  },
  {
   "cell_type": "code",
   "metadata": {
    "ExecuteTime": {
     "end_time": "2024-10-05T12:05:47.772966Z",
     "start_time": "2024-10-05T12:05:47.754576Z"
    }
   },
   "source": [
    "data.info()"
   ],
   "outputs": [
    {
     "name": "stdout",
     "output_type": "stream",
     "text": [
      "<class 'pandas.core.frame.DataFrame'>\n",
      "RangeIndex: 20000 entries, 0 to 19999\n",
      "Data columns (total 36 columns):\n",
      " #   Column                      Non-Null Count  Dtype  \n",
      "---  ------                      --------------  -----  \n",
      " 0   ApplicationDate             20000 non-null  object \n",
      " 1   Age                         19900 non-null  float64\n",
      " 2   AnnualIncome                20000 non-null  int64  \n",
      " 3   CreditScore                 20000 non-null  int64  \n",
      " 4   EmploymentStatus            20000 non-null  object \n",
      " 5   EducationLevel              20000 non-null  object \n",
      " 6   Experience                  20000 non-null  int64  \n",
      " 7   LoanAmount                  20000 non-null  int64  \n",
      " 8   LoanDuration                20000 non-null  int64  \n",
      " 9   MaritalStatus               19900 non-null  object \n",
      " 10  NumberOfDependents          20000 non-null  int64  \n",
      " 11  HomeOwnershipStatus         20000 non-null  object \n",
      " 12  MonthlyDebtPayments         20000 non-null  int64  \n",
      " 13  CreditCardUtilizationRate   20000 non-null  float64\n",
      " 14  NumberOfOpenCreditLines     20000 non-null  int64  \n",
      " 15  NumberOfCreditInquiries     20000 non-null  int64  \n",
      " 16  DebtToIncomeRatio           20000 non-null  float64\n",
      " 17  BankruptcyHistory           20000 non-null  int64  \n",
      " 18  LoanPurpose                 20000 non-null  object \n",
      " 19  PreviousLoanDefaults        20000 non-null  int64  \n",
      " 20  PaymentHistory              20000 non-null  int64  \n",
      " 21  LengthOfCreditHistory       20000 non-null  int64  \n",
      " 22  SavingsAccountBalance       20000 non-null  int64  \n",
      " 23  CheckingAccountBalance      20000 non-null  int64  \n",
      " 24  TotalAssets                 20000 non-null  int64  \n",
      " 25  TotalLiabilities            20000 non-null  int64  \n",
      " 26  MonthlyIncome               20000 non-null  float64\n",
      " 27  UtilityBillsPaymentHistory  20000 non-null  float64\n",
      " 28  JobTenure                   20000 non-null  int64  \n",
      " 29  NetWorth                    20000 non-null  int64  \n",
      " 30  BaseInterestRate            20000 non-null  float64\n",
      " 31  InterestRate                20000 non-null  float64\n",
      " 32  MonthlyLoanPayment          20000 non-null  float64\n",
      " 33  TotalDebtToIncomeRatio      20000 non-null  float64\n",
      " 34  LoanApproved                20000 non-null  int64  \n",
      " 35  RiskScore                   1000 non-null   float64\n",
      "dtypes: float64(10), int64(20), object(6)\n",
      "memory usage: 5.5+ MB\n"
     ]
    }
   ],
   "execution_count": 71
  },
  {
   "cell_type": "code",
   "metadata": {
    "ExecuteTime": {
     "end_time": "2024-10-05T12:05:49.134261Z",
     "start_time": "2024-10-05T12:05:49.088796Z"
    }
   },
   "source": [
    "data.describe(include=\"all\")"
   ],
   "outputs": [
    {
     "data": {
      "text/plain": [
       "       ApplicationDate           Age   AnnualIncome   CreditScore  \\\n",
       "count            20000  19900.000000   20000.000000  20000.000000   \n",
       "unique           20000           NaN            NaN           NaN   \n",
       "top         2018-01-01           NaN            NaN           NaN   \n",
       "freq                 1           NaN            NaN           NaN   \n",
       "mean               NaN     39.751759   59161.473550    571.612400   \n",
       "std                NaN     11.630809   40350.845168     50.997358   \n",
       "min                NaN     18.000000   15000.000000    343.000000   \n",
       "25%                NaN     31.750000   31679.000000    540.000000   \n",
       "50%                NaN     40.000000   48566.000000    578.000000   \n",
       "75%                NaN     48.000000   74391.000000    609.000000   \n",
       "max                NaN     80.000000  485341.000000    712.000000   \n",
       "\n",
       "       EmploymentStatus EducationLevel    Experience     LoanAmount  \\\n",
       "count             20000          20000  20000.000000   20000.000000   \n",
       "unique                3              5           NaN            NaN   \n",
       "top            Employed       Bachelor           NaN            NaN   \n",
       "freq              17036           6054           NaN            NaN   \n",
       "mean                NaN            NaN     17.522750   24882.867800   \n",
       "std                 NaN            NaN     11.316836   13427.421217   \n",
       "min                 NaN            NaN      0.000000    3674.000000   \n",
       "25%                 NaN            NaN      9.000000   15575.000000   \n",
       "50%                 NaN            NaN     17.000000   21914.500000   \n",
       "75%                 NaN            NaN     25.000000   30835.000000   \n",
       "max                 NaN            NaN     61.000000  184732.000000   \n",
       "\n",
       "        LoanDuration MaritalStatus  ...  MonthlyIncome  \\\n",
       "count   20000.000000         19900  ...   20000.000000   \n",
       "unique           NaN             4  ...            NaN   \n",
       "top              NaN       Married  ...            NaN   \n",
       "freq             NaN          9999  ...            NaN   \n",
       "mean       54.057000           NaN  ...    4891.715521   \n",
       "std        24.664857           NaN  ...    3296.771598   \n",
       "min        12.000000           NaN  ...    1250.000000   \n",
       "25%        36.000000           NaN  ...    2629.583333   \n",
       "50%        48.000000           NaN  ...    4034.750000   \n",
       "75%        72.000000           NaN  ...    6163.000000   \n",
       "max       120.000000           NaN  ...   25000.000000   \n",
       "\n",
       "       UtilityBillsPaymentHistory     JobTenure      NetWorth  \\\n",
       "count                20000.000000  20000.000000  2.000000e+04   \n",
       "unique                        NaN           NaN           NaN   \n",
       "top                           NaN           NaN           NaN   \n",
       "freq                          NaN           NaN           NaN   \n",
       "mean                     0.799918      5.002650  7.229432e+04   \n",
       "std                      0.120665      2.236804  1.179200e+05   \n",
       "min                      0.259203      0.000000  1.000000e+03   \n",
       "25%                      0.727379      3.000000  8.734750e+03   \n",
       "50%                      0.820962      5.000000  3.285550e+04   \n",
       "75%                      0.892333      6.000000  8.882550e+04   \n",
       "max                      0.999433     16.000000  2.603208e+06   \n",
       "\n",
       "        BaseInterestRate  InterestRate  MonthlyLoanPayment  \\\n",
       "count       20000.000000  20000.000000        20000.000000   \n",
       "unique               NaN           NaN                 NaN   \n",
       "top                  NaN           NaN                 NaN   \n",
       "freq                 NaN           NaN                 NaN   \n",
       "mean            0.239124      0.239110          911.607052   \n",
       "std             0.035509      0.042205          674.583473   \n",
       "min             0.130101      0.113310           97.030193   \n",
       "25%             0.213889      0.209142          493.763700   \n",
       "50%             0.236157      0.235390          728.511452   \n",
       "75%             0.261533      0.265532         1112.770759   \n",
       "max             0.405029      0.446787        10892.629520   \n",
       "\n",
       "        TotalDebtToIncomeRatio  LoanApproved    RiskScore  \n",
       "count             20000.000000  20000.000000  1000.000000  \n",
       "unique                     NaN           NaN          NaN  \n",
       "top                        NaN           NaN          NaN  \n",
       "freq                       NaN           NaN          NaN  \n",
       "mean                  0.402182      0.239000    50.687600  \n",
       "std                   0.338924      0.426483     7.881033  \n",
       "min                   0.016043      0.000000    30.400000  \n",
       "25%                   0.179693      0.000000    46.000000  \n",
       "50%                   0.302711      0.000000    52.000000  \n",
       "75%                   0.509214      0.000000    56.000000  \n",
       "max                   4.647657      1.000000    77.000000  \n",
       "\n",
       "[11 rows x 36 columns]"
      ],
      "text/html": [
       "<div>\n",
       "<style scoped>\n",
       "    .dataframe tbody tr th:only-of-type {\n",
       "        vertical-align: middle;\n",
       "    }\n",
       "\n",
       "    .dataframe tbody tr th {\n",
       "        vertical-align: top;\n",
       "    }\n",
       "\n",
       "    .dataframe thead th {\n",
       "        text-align: right;\n",
       "    }\n",
       "</style>\n",
       "<table border=\"1\" class=\"dataframe\">\n",
       "  <thead>\n",
       "    <tr style=\"text-align: right;\">\n",
       "      <th></th>\n",
       "      <th>ApplicationDate</th>\n",
       "      <th>Age</th>\n",
       "      <th>AnnualIncome</th>\n",
       "      <th>CreditScore</th>\n",
       "      <th>EmploymentStatus</th>\n",
       "      <th>EducationLevel</th>\n",
       "      <th>Experience</th>\n",
       "      <th>LoanAmount</th>\n",
       "      <th>LoanDuration</th>\n",
       "      <th>MaritalStatus</th>\n",
       "      <th>...</th>\n",
       "      <th>MonthlyIncome</th>\n",
       "      <th>UtilityBillsPaymentHistory</th>\n",
       "      <th>JobTenure</th>\n",
       "      <th>NetWorth</th>\n",
       "      <th>BaseInterestRate</th>\n",
       "      <th>InterestRate</th>\n",
       "      <th>MonthlyLoanPayment</th>\n",
       "      <th>TotalDebtToIncomeRatio</th>\n",
       "      <th>LoanApproved</th>\n",
       "      <th>RiskScore</th>\n",
       "    </tr>\n",
       "  </thead>\n",
       "  <tbody>\n",
       "    <tr>\n",
       "      <th>count</th>\n",
       "      <td>20000</td>\n",
       "      <td>19900.000000</td>\n",
       "      <td>20000.000000</td>\n",
       "      <td>20000.000000</td>\n",
       "      <td>20000</td>\n",
       "      <td>20000</td>\n",
       "      <td>20000.000000</td>\n",
       "      <td>20000.000000</td>\n",
       "      <td>20000.000000</td>\n",
       "      <td>19900</td>\n",
       "      <td>...</td>\n",
       "      <td>20000.000000</td>\n",
       "      <td>20000.000000</td>\n",
       "      <td>20000.000000</td>\n",
       "      <td>2.000000e+04</td>\n",
       "      <td>20000.000000</td>\n",
       "      <td>20000.000000</td>\n",
       "      <td>20000.000000</td>\n",
       "      <td>20000.000000</td>\n",
       "      <td>20000.000000</td>\n",
       "      <td>1000.000000</td>\n",
       "    </tr>\n",
       "    <tr>\n",
       "      <th>unique</th>\n",
       "      <td>20000</td>\n",
       "      <td>NaN</td>\n",
       "      <td>NaN</td>\n",
       "      <td>NaN</td>\n",
       "      <td>3</td>\n",
       "      <td>5</td>\n",
       "      <td>NaN</td>\n",
       "      <td>NaN</td>\n",
       "      <td>NaN</td>\n",
       "      <td>4</td>\n",
       "      <td>...</td>\n",
       "      <td>NaN</td>\n",
       "      <td>NaN</td>\n",
       "      <td>NaN</td>\n",
       "      <td>NaN</td>\n",
       "      <td>NaN</td>\n",
       "      <td>NaN</td>\n",
       "      <td>NaN</td>\n",
       "      <td>NaN</td>\n",
       "      <td>NaN</td>\n",
       "      <td>NaN</td>\n",
       "    </tr>\n",
       "    <tr>\n",
       "      <th>top</th>\n",
       "      <td>2018-01-01</td>\n",
       "      <td>NaN</td>\n",
       "      <td>NaN</td>\n",
       "      <td>NaN</td>\n",
       "      <td>Employed</td>\n",
       "      <td>Bachelor</td>\n",
       "      <td>NaN</td>\n",
       "      <td>NaN</td>\n",
       "      <td>NaN</td>\n",
       "      <td>Married</td>\n",
       "      <td>...</td>\n",
       "      <td>NaN</td>\n",
       "      <td>NaN</td>\n",
       "      <td>NaN</td>\n",
       "      <td>NaN</td>\n",
       "      <td>NaN</td>\n",
       "      <td>NaN</td>\n",
       "      <td>NaN</td>\n",
       "      <td>NaN</td>\n",
       "      <td>NaN</td>\n",
       "      <td>NaN</td>\n",
       "    </tr>\n",
       "    <tr>\n",
       "      <th>freq</th>\n",
       "      <td>1</td>\n",
       "      <td>NaN</td>\n",
       "      <td>NaN</td>\n",
       "      <td>NaN</td>\n",
       "      <td>17036</td>\n",
       "      <td>6054</td>\n",
       "      <td>NaN</td>\n",
       "      <td>NaN</td>\n",
       "      <td>NaN</td>\n",
       "      <td>9999</td>\n",
       "      <td>...</td>\n",
       "      <td>NaN</td>\n",
       "      <td>NaN</td>\n",
       "      <td>NaN</td>\n",
       "      <td>NaN</td>\n",
       "      <td>NaN</td>\n",
       "      <td>NaN</td>\n",
       "      <td>NaN</td>\n",
       "      <td>NaN</td>\n",
       "      <td>NaN</td>\n",
       "      <td>NaN</td>\n",
       "    </tr>\n",
       "    <tr>\n",
       "      <th>mean</th>\n",
       "      <td>NaN</td>\n",
       "      <td>39.751759</td>\n",
       "      <td>59161.473550</td>\n",
       "      <td>571.612400</td>\n",
       "      <td>NaN</td>\n",
       "      <td>NaN</td>\n",
       "      <td>17.522750</td>\n",
       "      <td>24882.867800</td>\n",
       "      <td>54.057000</td>\n",
       "      <td>NaN</td>\n",
       "      <td>...</td>\n",
       "      <td>4891.715521</td>\n",
       "      <td>0.799918</td>\n",
       "      <td>5.002650</td>\n",
       "      <td>7.229432e+04</td>\n",
       "      <td>0.239124</td>\n",
       "      <td>0.239110</td>\n",
       "      <td>911.607052</td>\n",
       "      <td>0.402182</td>\n",
       "      <td>0.239000</td>\n",
       "      <td>50.687600</td>\n",
       "    </tr>\n",
       "    <tr>\n",
       "      <th>std</th>\n",
       "      <td>NaN</td>\n",
       "      <td>11.630809</td>\n",
       "      <td>40350.845168</td>\n",
       "      <td>50.997358</td>\n",
       "      <td>NaN</td>\n",
       "      <td>NaN</td>\n",
       "      <td>11.316836</td>\n",
       "      <td>13427.421217</td>\n",
       "      <td>24.664857</td>\n",
       "      <td>NaN</td>\n",
       "      <td>...</td>\n",
       "      <td>3296.771598</td>\n",
       "      <td>0.120665</td>\n",
       "      <td>2.236804</td>\n",
       "      <td>1.179200e+05</td>\n",
       "      <td>0.035509</td>\n",
       "      <td>0.042205</td>\n",
       "      <td>674.583473</td>\n",
       "      <td>0.338924</td>\n",
       "      <td>0.426483</td>\n",
       "      <td>7.881033</td>\n",
       "    </tr>\n",
       "    <tr>\n",
       "      <th>min</th>\n",
       "      <td>NaN</td>\n",
       "      <td>18.000000</td>\n",
       "      <td>15000.000000</td>\n",
       "      <td>343.000000</td>\n",
       "      <td>NaN</td>\n",
       "      <td>NaN</td>\n",
       "      <td>0.000000</td>\n",
       "      <td>3674.000000</td>\n",
       "      <td>12.000000</td>\n",
       "      <td>NaN</td>\n",
       "      <td>...</td>\n",
       "      <td>1250.000000</td>\n",
       "      <td>0.259203</td>\n",
       "      <td>0.000000</td>\n",
       "      <td>1.000000e+03</td>\n",
       "      <td>0.130101</td>\n",
       "      <td>0.113310</td>\n",
       "      <td>97.030193</td>\n",
       "      <td>0.016043</td>\n",
       "      <td>0.000000</td>\n",
       "      <td>30.400000</td>\n",
       "    </tr>\n",
       "    <tr>\n",
       "      <th>25%</th>\n",
       "      <td>NaN</td>\n",
       "      <td>31.750000</td>\n",
       "      <td>31679.000000</td>\n",
       "      <td>540.000000</td>\n",
       "      <td>NaN</td>\n",
       "      <td>NaN</td>\n",
       "      <td>9.000000</td>\n",
       "      <td>15575.000000</td>\n",
       "      <td>36.000000</td>\n",
       "      <td>NaN</td>\n",
       "      <td>...</td>\n",
       "      <td>2629.583333</td>\n",
       "      <td>0.727379</td>\n",
       "      <td>3.000000</td>\n",
       "      <td>8.734750e+03</td>\n",
       "      <td>0.213889</td>\n",
       "      <td>0.209142</td>\n",
       "      <td>493.763700</td>\n",
       "      <td>0.179693</td>\n",
       "      <td>0.000000</td>\n",
       "      <td>46.000000</td>\n",
       "    </tr>\n",
       "    <tr>\n",
       "      <th>50%</th>\n",
       "      <td>NaN</td>\n",
       "      <td>40.000000</td>\n",
       "      <td>48566.000000</td>\n",
       "      <td>578.000000</td>\n",
       "      <td>NaN</td>\n",
       "      <td>NaN</td>\n",
       "      <td>17.000000</td>\n",
       "      <td>21914.500000</td>\n",
       "      <td>48.000000</td>\n",
       "      <td>NaN</td>\n",
       "      <td>...</td>\n",
       "      <td>4034.750000</td>\n",
       "      <td>0.820962</td>\n",
       "      <td>5.000000</td>\n",
       "      <td>3.285550e+04</td>\n",
       "      <td>0.236157</td>\n",
       "      <td>0.235390</td>\n",
       "      <td>728.511452</td>\n",
       "      <td>0.302711</td>\n",
       "      <td>0.000000</td>\n",
       "      <td>52.000000</td>\n",
       "    </tr>\n",
       "    <tr>\n",
       "      <th>75%</th>\n",
       "      <td>NaN</td>\n",
       "      <td>48.000000</td>\n",
       "      <td>74391.000000</td>\n",
       "      <td>609.000000</td>\n",
       "      <td>NaN</td>\n",
       "      <td>NaN</td>\n",
       "      <td>25.000000</td>\n",
       "      <td>30835.000000</td>\n",
       "      <td>72.000000</td>\n",
       "      <td>NaN</td>\n",
       "      <td>...</td>\n",
       "      <td>6163.000000</td>\n",
       "      <td>0.892333</td>\n",
       "      <td>6.000000</td>\n",
       "      <td>8.882550e+04</td>\n",
       "      <td>0.261533</td>\n",
       "      <td>0.265532</td>\n",
       "      <td>1112.770759</td>\n",
       "      <td>0.509214</td>\n",
       "      <td>0.000000</td>\n",
       "      <td>56.000000</td>\n",
       "    </tr>\n",
       "    <tr>\n",
       "      <th>max</th>\n",
       "      <td>NaN</td>\n",
       "      <td>80.000000</td>\n",
       "      <td>485341.000000</td>\n",
       "      <td>712.000000</td>\n",
       "      <td>NaN</td>\n",
       "      <td>NaN</td>\n",
       "      <td>61.000000</td>\n",
       "      <td>184732.000000</td>\n",
       "      <td>120.000000</td>\n",
       "      <td>NaN</td>\n",
       "      <td>...</td>\n",
       "      <td>25000.000000</td>\n",
       "      <td>0.999433</td>\n",
       "      <td>16.000000</td>\n",
       "      <td>2.603208e+06</td>\n",
       "      <td>0.405029</td>\n",
       "      <td>0.446787</td>\n",
       "      <td>10892.629520</td>\n",
       "      <td>4.647657</td>\n",
       "      <td>1.000000</td>\n",
       "      <td>77.000000</td>\n",
       "    </tr>\n",
       "  </tbody>\n",
       "</table>\n",
       "<p>11 rows × 36 columns</p>\n",
       "</div>"
      ]
     },
     "execution_count": 72,
     "metadata": {},
     "output_type": "execute_result"
    }
   ],
   "execution_count": 72
  },
  {
   "cell_type": "markdown",
   "metadata": {},
   "source": [
    "## Task 1: Clean the datasets (10 marks)"
   ]
  },
  {
   "cell_type": "markdown",
   "metadata": {},
   "source": [
    "### Step 1.1 Handle the missing values with follwoing rules (5 marks)\n",
    "1. If over 50% of the values of a column, the column should be removed from the data frame; \n",
    "2. For a categorical column, if a row contains a missing value, you need to delete the whole row; \n",
    "3. For a numerical column, if a row contains a missing value, you need to perform a missing value imputation with the average value of the column."
   ]
  },
  {
   "cell_type": "code",
   "metadata": {
    "ExecuteTime": {
     "end_time": "2024-10-05T12:05:51.538887Z",
     "start_time": "2024-10-05T12:05:51.519596Z"
    }
   },
   "source": [
    "# 1. Remove columns with more than 50% missing values\n",
    "threshold = len(data) * 0.5\n",
    "data = data.dropna(thresh=threshold, axis=1)"
   ],
   "outputs": [],
   "execution_count": 73
  },
  {
   "metadata": {
    "ExecuteTime": {
     "end_time": "2024-10-05T12:05:53.335774Z",
     "start_time": "2024-10-05T12:05:53.324142Z"
    }
   },
   "cell_type": "code",
   "source": [
    "# 2. Remove rows with missing values in categorical columns\n",
    "categorical_columns = data.select_dtypes(include=['object']).columns\n",
    "data = data.dropna(subset=categorical_columns)"
   ],
   "outputs": [],
   "execution_count": 74
  },
  {
   "metadata": {
    "ExecuteTime": {
     "end_time": "2024-10-05T12:05:54.524868Z",
     "start_time": "2024-10-05T12:05:54.515436Z"
    }
   },
   "cell_type": "code",
   "source": [
    "# 3. Impute missing values in numerical columns with column mean\n",
    "numerical_columns = data.select_dtypes(include=['number']).columns\n",
    "for column in numerical_columns:\n",
    "    mean_value = data[column].mean()\n",
    "    data[column] = data[column].fillna(mean_value)"
   ],
   "outputs": [],
   "execution_count": 75
  },
  {
   "metadata": {
    "ExecuteTime": {
     "end_time": "2024-10-05T12:05:55.982883Z",
     "start_time": "2024-10-05T12:05:55.976256Z"
    }
   },
   "cell_type": "code",
   "source": [
    "# Display the cleaned data\n",
    "print(data.head())"
   ],
   "outputs": [
    {
     "name": "stdout",
     "output_type": "stream",
     "text": [
      "  ApplicationDate   Age  AnnualIncome  CreditScore EmploymentStatus  \\\n",
      "0      2018-01-01  45.0         39948          617         Employed   \n",
      "1      2018-01-02  38.0         39709          628         Employed   \n",
      "2      2018-01-03  47.0         40724          570         Employed   \n",
      "3      2018-01-04  58.0         69084          545         Employed   \n",
      "4      2018-01-05  37.0        103264          594         Employed   \n",
      "\n",
      "  EducationLevel  Experience  LoanAmount  LoanDuration MaritalStatus  ...  \\\n",
      "0         Master          22       13152            48       Married  ...   \n",
      "1      Associate          15       26045            48        Single  ...   \n",
      "2       Bachelor          26       17627            36       Married  ...   \n",
      "3    High School          34       37898            96        Single  ...   \n",
      "4      Associate          17        9184            36       Married  ...   \n",
      "\n",
      "   TotalLiabilities MonthlyIncome  UtilityBillsPaymentHistory  JobTenure  \\\n",
      "0             19183   3329.000000                    0.724972         11   \n",
      "1              9595   3309.083333                    0.935132          3   \n",
      "2            128874   3393.666667                    0.872241          6   \n",
      "3              5370   5757.000000                    0.896155          5   \n",
      "4             17286   8605.333333                    0.941369          5   \n",
      "\n",
      "   NetWorth  BaseInterestRate  InterestRate  MonthlyLoanPayment  \\\n",
      "0    126928          0.199652      0.227590          419.805992   \n",
      "1     43609          0.207045      0.201077          794.054238   \n",
      "2      5205          0.217627      0.212548          666.406688   \n",
      "3     99452          0.300398      0.300911         1047.506980   \n",
      "4    227019          0.197184      0.175990          330.179140   \n",
      "\n",
      "  TotalDebtToIncomeRatio  LoanApproved  \n",
      "0               0.181077             0  \n",
      "1               0.389852             0  \n",
      "2               0.462157             0  \n",
      "3               0.313098             0  \n",
      "4               0.070210             1  \n",
      "\n",
      "[5 rows x 35 columns]\n"
     ]
    }
   ],
   "execution_count": 76
  },
  {
   "cell_type": "markdown",
   "metadata": {},
   "source": [
    "### Step 1.2 Handle categorical attributes (5 marks)\n",
    "1. If all the categorical values of a column are unique, this column does not provide any statistical informaiton and should be deleted.\n",
    "2. Use one hot encoding to convert the categorical values into numerical ones."
   ]
  },
  {
   "cell_type": "code",
   "metadata": {
    "ExecuteTime": {
     "end_time": "2024-10-05T12:05:58.435720Z",
     "start_time": "2024-10-05T12:05:58.422567Z"
    }
   },
   "source": [
    "# 1. Remove columns with unique categorical values\n",
    "for column in categorical_columns:\n",
    "    if data[column].nunique() == len(data):\n",
    "        data = data.drop(columns=[column])"
   ],
   "outputs": [],
   "execution_count": 77
  },
  {
   "metadata": {
    "ExecuteTime": {
     "end_time": "2024-10-05T12:05:59.802922Z",
     "start_time": "2024-10-05T12:05:59.783273Z"
    }
   },
   "cell_type": "code",
   "source": [
    "# 2. One-hot encode categorical columns\n",
    "data = pd.get_dummies(data, drop_first=True)"
   ],
   "outputs": [],
   "execution_count": 78
  },
  {
   "metadata": {
    "ExecuteTime": {
     "end_time": "2024-10-05T12:06:01.105486Z",
     "start_time": "2024-10-05T12:06:01.099600Z"
    }
   },
   "cell_type": "code",
   "source": [
    "# Display the cleaned data\n",
    "print(data.head())"
   ],
   "outputs": [
    {
     "name": "stdout",
     "output_type": "stream",
     "text": [
      "    Age  AnnualIncome  CreditScore  Experience  LoanAmount  LoanDuration  \\\n",
      "0  45.0         39948          617          22       13152            48   \n",
      "1  38.0         39709          628          15       26045            48   \n",
      "2  47.0         40724          570          26       17627            36   \n",
      "3  58.0         69084          545          34       37898            96   \n",
      "4  37.0        103264          594          17        9184            36   \n",
      "\n",
      "   NumberOfDependents  MonthlyDebtPayments  CreditCardUtilizationRate  \\\n",
      "0                   2                  183                   0.354418   \n",
      "1                   1                  496                   0.087827   \n",
      "2                   2                  902                   0.137414   \n",
      "3                   1                  755                   0.267587   \n",
      "4                   1                  274                   0.320535   \n",
      "\n",
      "   NumberOfOpenCreditLines  ...  MaritalStatus_Married  MaritalStatus_Single  \\\n",
      "0                        1  ...                   True                 False   \n",
      "1                        5  ...                  False                  True   \n",
      "2                        2  ...                   True                 False   \n",
      "3                        2  ...                  False                  True   \n",
      "4                        0  ...                   True                 False   \n",
      "\n",
      "   MaritalStatus_Widowed  HomeOwnershipStatus_Other  HomeOwnershipStatus_Own  \\\n",
      "0                  False                      False                     True   \n",
      "1                  False                      False                    False   \n",
      "2                  False                      False                    False   \n",
      "3                  False                      False                    False   \n",
      "4                  False                      False                    False   \n",
      "\n",
      "   HomeOwnershipStatus_Rent  LoanPurpose_Debt Consolidation  \\\n",
      "0                     False                           False   \n",
      "1                     False                            True   \n",
      "2                      True                           False   \n",
      "3                     False                           False   \n",
      "4                     False                            True   \n",
      "\n",
      "   LoanPurpose_Education  LoanPurpose_Home  LoanPurpose_Other  \n",
      "0                  False              True              False  \n",
      "1                  False             False              False  \n",
      "2                   True             False              False  \n",
      "3                  False              True              False  \n",
      "4                  False             False              False  \n",
      "\n",
      "[5 rows x 45 columns]\n"
     ]
    }
   ],
   "execution_count": 79
  },
  {
   "cell_type": "markdown",
   "metadata": {},
   "source": [
    "## Task 2: Build a logistic regression classification model (25 marks)"
   ]
  },
  {
   "cell_type": "markdown",
   "metadata": {},
   "source": [
    "### Step 2.1 Specify the features and the label, and split the dataset into training data and testing data (5 marks)\n",
    "1. The attirbute \"LoanApproved\" is the label, which is the prediction target. The remaining attributes are the features.\n",
    "2. The ratio for splitting the dataset is 80% for training and 20% for testing. Note that you need to set the \"random_state\" parameter as your student ID to produce your personlised splitting. Failing to do so will lose marks."
   ]
  },
  {
   "cell_type": "code",
   "metadata": {
    "ExecuteTime": {
     "end_time": "2024-10-05T12:06:03.407735Z",
     "start_time": "2024-10-05T12:06:03.397117Z"
    }
   },
   "source": [
    "# 1. Specify the label and features\n",
    "student_id = 48160202 \n",
    "label = 'LoanApproved'\n",
    "features = data.drop(columns=[label]) \n",
    "target = data[label]"
   ],
   "outputs": [],
   "execution_count": 80
  },
  {
   "metadata": {
    "ExecuteTime": {
     "end_time": "2024-10-05T12:06:04.888432Z",
     "start_time": "2024-10-05T12:06:04.878762Z"
    }
   },
   "cell_type": "code",
   "source": [
    "# 2. Split the dataset into training and testing sets\n",
    "X_train, X_test, y_train, y_test = train_test_split(features, target, test_size=0.2, random_state=student_id)"
   ],
   "outputs": [],
   "execution_count": 81
  },
  {
   "metadata": {
    "ExecuteTime": {
     "end_time": "2024-10-05T12:06:05.717910Z",
     "start_time": "2024-10-05T12:06:05.712224Z"
    }
   },
   "cell_type": "code",
   "source": [
    "# Display the shapes of the resulting datasets\n",
    "print(f\"Training set shape: {X_train.shape}, {y_train.shape}\")\n",
    "print(f\"Testing set shape: {X_test.shape}, {y_test.shape}\")"
   ],
   "outputs": [
    {
     "name": "stdout",
     "output_type": "stream",
     "text": [
      "Training set shape: (15920, 44), (15920,)\n",
      "Testing set shape: (3980, 44), (3980,)\n"
     ]
    }
   ],
   "execution_count": 82
  },
  {
   "cell_type": "markdown",
   "metadata": {},
   "source": [
    "### Step 2.2 Build a logistic regression model (10 marks)\n",
    "1. Train a logistic regression model\n",
    "2. Report two classification performance metrics (accuracy and f1-score) on the testing data\n",
    "3. Also report the two metrics on the training data, and compare the results with that of the testing data. Make a justification on whether the model is overfitting based on the comparison."
   ]
  },
  {
   "cell_type": "code",
   "metadata": {
    "ExecuteTime": {
     "end_time": "2024-10-05T12:06:08.744088Z",
     "start_time": "2024-10-05T12:06:08.083476Z"
    }
   },
   "source": [
    "# 1. Train a logistic regression model and predict on the training and testing data\n",
    "model = LogisticRegression(max_iter=1000, random_state=student_id)\n",
    "model.fit(X_train, y_train)\n",
    "y_train_prediction = model.predict(X_train)\n",
    "y_test_prediction = model.predict(X_test)"
   ],
   "outputs": [],
   "execution_count": 83
  },
  {
   "metadata": {
    "ExecuteTime": {
     "end_time": "2024-10-05T12:06:10.175026Z",
     "start_time": "2024-10-05T12:06:10.166562Z"
    }
   },
   "cell_type": "code",
   "source": [
    "# 2. Calculate accuracy and F1-score for training and testing data\n",
    "train_accuracy = accuracy_score(y_train, y_train_prediction)\n",
    "train_f1 = f1_score(y_train, y_train_prediction)\n",
    "\n",
    "test_accuracy = accuracy_score(y_test, y_test_prediction)\n",
    "test_f1 = f1_score(y_test, y_test_prediction)"
   ],
   "outputs": [],
   "execution_count": 84
  },
  {
   "metadata": {
    "ExecuteTime": {
     "end_time": "2024-10-05T12:06:11.483087Z",
     "start_time": "2024-10-05T12:06:11.480171Z"
    }
   },
   "cell_type": "code",
   "source": [
    "# 3. Compare the results and justify whether the model is overfitting\n",
    "if train_accuracy > test_accuracy and train_f1 > test_f1:\n",
    "    print(\"The model might be overfitting as it performs better on the training data than on the testing data.\")\n",
    "else:\n",
    "    print(\"The model does not seem to be overfitting.\")"
   ],
   "outputs": [
    {
     "name": "stdout",
     "output_type": "stream",
     "text": [
      "The model does not seem to be overfitting.\n"
     ]
    }
   ],
   "execution_count": 85
  },
  {
   "metadata": {
    "ExecuteTime": {
     "end_time": "2024-10-05T12:06:15.829293Z",
     "start_time": "2024-10-05T12:06:15.812613Z"
    }
   },
   "cell_type": "code",
   "source": [
    "# Print the results\n",
    "print(f\"Training Accuracy: {train_accuracy:.4f}\")\n",
    "print(f\"Training F1-Score: {train_f1:.4f}\")\n",
    "print(f\"Testing Accuracy: {test_accuracy:.4f}\")\n",
    "print(f\"Testing F1-Score: {test_f1:.4f}\")"
   ],
   "outputs": [
    {
     "name": "stdout",
     "output_type": "stream",
     "text": [
      "Training Accuracy: 0.8912\n",
      "Training F1-Score: 0.7558\n",
      "Testing Accuracy: 0.8955\n",
      "Testing F1-Score: 0.7606\n"
     ]
    }
   ],
   "execution_count": 88
  },
  {
   "cell_type": "markdown",
   "metadata": {},
   "source": [
    "### Step 2.3 Perform the recursive feature elimination (RFE) technique to identify the effective features for building the model (10 marks)\n",
    "1. Visualise the change of the two performance metrics with respect to the number of eliminated features using a line chart.\n",
    "In terms of the visualisation result, select a good value for the number of eliminated features with considering both performance maximisation and feature minimisation (two competing goals). \n",
    "2. Run the RFE again with the chosen number of eliminated features to obtain the corresponding set of retained features."
   ]
  },
  {
   "cell_type": "code",
   "metadata": {
    "ExecuteTime": {
     "end_time": "2024-10-05T12:38:07.457123Z",
     "start_time": "2024-10-05T12:37:55.809092Z"
    }
   },
   "source": [
    "# 1.1 Perform RFE and store the performance metric\n",
    "rfe = RFE(estimator=model, n_features_to_select=1, step=1)\n",
    "rfe.fit(X_train, y_train)\n",
    "acc_scores = []\n",
    "f1_scores = []"
   ],
   "outputs": [],
   "execution_count": 97
  },
  {
   "metadata": {
    "ExecuteTime": {
     "end_time": "2024-10-05T12:45:38.691776Z",
     "start_time": "2024-10-05T12:38:08.278694Z"
    }
   },
   "cell_type": "code",
   "source": [
    "# 1.2 Evaluate the model performance for numbers of features and calculate both scores\n",
    "\n",
    "for i in range(1, X_train.shape[1] + 1):\n",
    "    selector = RFE(estimator=model,n_features_to_select=i)\n",
    "    selector = selector.fit(X_train, y_train)\n",
    "    supp = selector.get_support()\n",
    "\n",
    "    # Calculate accuracy score and F1 score for the predictions on the test set\n",
    "    predicted = selector.predict(X_test)\n",
    "    acc_score = accuracy_score(y_test, predicted)\n",
    "    f1 = f1_score(y_test, predicted)\n",
    "\n",
    "    # Append the calculated scores to their respective lists\n",
    "    acc_scores.append(acc_score)\n",
    "    f1_scores.append(f1)\n",
    "\n",
    "#Finding the best accuracy score (index where the accuracy and F1 is highest)\n",
    "best_acc = 1\n",
    "for item in acc_scores:\n",
    "    if item < acc_scores[best_acc - 1]:\n",
    "        best_acc = acc_scores.index(item) + 1\n",
    "\n",
    "\n",
    "best_f1 = 1\n",
    "for item in f1_scores:\n",
    "    if item < f1_scores[best_f1 - 1]:\n",
    "        best_f1 = f1_scores.index(item) + 1\n",
    "\n",
    "# 1.4 Find the optimal features\n",
    "rfecv = RFECV(estimator=model, step=1, cv=5, scoring='accuracy')\n",
    "rfecv.fit(X_train, y_train)\n",
    "optimal_features = rfecv.n_features_\n",
    "print(f\"Optimal number of features: {optimal_features}\")\n",
    "\n",
    "# 1.5 plotting the performance metrics with enhanced visualization\n",
    "plt.figure(figsize=(10, 6))\n",
    "plt.plot(range(1, X_train.shape[1] + 1), acc_scores, marker='o', label='Accuracy', color='lightblue')\n",
    "plt.plot(range(1, X_train.shape[1] + 1), f1_scores, marker='x', label='F1 Score', color='lightcoral')\n",
    "\n",
    "\n",
    "plt.title('RFE: Accuracy and F1 Score vs Number of Features')\n",
    "plt.xlabel('Number of Features')\n",
    "plt.ylabel('Performance Metric')\n",
    "plt.grid(True)\n",
    "plt.legend(loc='best')\n",
    "\n",
    "plt.show()"
   ],
   "outputs": [
    {
     "name": "stdout",
     "output_type": "stream",
     "text": [
      "Optimal number of features: 24\n"
     ]
    },
    {
     "data": {
      "text/plain": [
       "<Figure size 1000x600 with 1 Axes>"
      ],
      "image/png": "[encoded data removed]"
     },
     "metadata": {},
     "output_type": "display_data"
    }
   ],
   "execution_count": 98
  },
  {
   "metadata": {
    "ExecuteTime": {
     "end_time": "2024-10-05T12:54:02.291933Z",
     "start_time": "2024-10-05T12:53:51.282349Z"
    }
   },
   "cell_type": "code",
   "source": [
    "# 2. Run RFE again with the chosen number of features\n",
    "rfe = RFE(estimator=model, n_features_to_select=optimal_features)\n",
    "rfe.fit(X_train, y_train)\n",
    "\n",
    "retained_features = X_train.columns[rfe.support_]\n",
    "print(f\"Retained Features: {retained_features}\")"
   ],
   "outputs": [
    {
     "name": "stdout",
     "output_type": "stream",
     "text": [
      "Retained Features: Index(['LoanDuration', 'CreditCardUtilizationRate', 'BankruptcyHistory',\n",
      "       'PreviousLoanDefaults', 'LengthOfCreditHistory',\n",
      "       'UtilityBillsPaymentHistory', 'BaseInterestRate', 'InterestRate',\n",
      "       'TotalDebtToIncomeRatio', 'EmploymentStatus_Self-Employed',\n",
      "       'EmploymentStatus_Unemployed', 'EducationLevel_Bachelor',\n",
      "       'EducationLevel_Doctorate', 'EducationLevel_High School',\n",
      "       'EducationLevel_Master', 'MaritalStatus_Married',\n",
      "       'MaritalStatus_Single', 'HomeOwnershipStatus_Other',\n",
      "       'HomeOwnershipStatus_Own', 'HomeOwnershipStatus_Rent',\n",
      "       'LoanPurpose_Debt Consolidation', 'LoanPurpose_Education',\n",
      "       'LoanPurpose_Home', 'LoanPurpose_Other'],\n",
      "      dtype='object')\n"
     ]
    }
   ],
   "execution_count": 99
  },
  {
   "cell_type": "markdown",
   "metadata": {},
   "source": [
    "## Task 3: Build a KNN classification model (25 marks)"
   ]
  },
  {
   "cell_type": "markdown",
   "metadata": {},
   "source": [
    "### Step 3.1 Build 1-NN classifier (5 marks)\n",
    "1. Slect the features identifed in Step 2.3 for this task\n",
    "2. Buid 1-NN classifier and report two classification performance metrics (accuracy and f1-score) on the testing data\n",
    "3. Also report the two metrics on the training data, and compare the results with that of the testing data. Make a justification on whether the model is overfitting based on the comparison."
   ]
  },
  {
   "cell_type": "code",
   "metadata": {
    "ExecuteTime": {
     "end_time": "2024-10-05T12:54:15.007101Z",
     "start_time": "2024-10-05T12:54:14.996887Z"
    }
   },
   "source": [
    "# 1. Use the retained features from Step 2.3\n",
    "retained_features = ['LoanDuration', 'CreditCardUtilizationRate', 'BankruptcyHistory',\n",
    "       'PreviousLoanDefaults', 'LengthOfCreditHistory',\n",
    "       'UtilityBillsPaymentHistory', 'BaseInterestRate', 'InterestRate',\n",
    "       'TotalDebtToIncomeRatio', 'EmploymentStatus_Self-Employed',\n",
    "       'EmploymentStatus_Unemployed', 'EducationLevel_Bachelor',\n",
    "       'EducationLevel_Doctorate', 'EducationLevel_High School',\n",
    "       'EducationLevel_Master', 'MaritalStatus_Married',\n",
    "       'MaritalStatus_Single', 'HomeOwnershipStatus_Other',\n",
    "       'HomeOwnershipStatus_Own', 'HomeOwnershipStatus_Rent',\n",
    "       'LoanPurpose_Debt Consolidation', 'LoanPurpose_Education',\n",
    "       'LoanPurpose_Home', 'LoanPurpose_Other']\n",
    "X_train = X_train[retained_features]\n",
    "X_test = X_test[retained_features]"
   ],
   "outputs": [],
   "execution_count": 100
  },
  {
   "metadata": {
    "ExecuteTime": {
     "end_time": "2024-10-05T12:54:17.873015Z",
     "start_time": "2024-10-05T12:54:17.346660Z"
    }
   },
   "cell_type": "code",
   "source": [
    "# 2. Build a 1-NN classifier and calculate accuracy and F1-score for training and testing data\n",
    "knn = KNeighborsClassifier(n_neighbors=1)\n",
    "knn.fit(X_train, y_train)\n",
    "y_train_predict = knn.predict(X_train)\n",
    "y_test_predict = knn.predict(X_test)\n",
    "\n",
    "train_accuracy = accuracy_score(y_train, y_train_predict)\n",
    "train_f1 = f1_score(y_train, y_train_predict)\n",
    "test_accuracy = accuracy_score(y_test, y_test_predict)\n",
    "test_f1 = f1_score(y_test, y_test_predict)"
   ],
   "outputs": [],
   "execution_count": 101
  },
  {
   "metadata": {
    "ExecuteTime": {
     "end_time": "2024-10-05T12:54:19.182439Z",
     "start_time": "2024-10-05T12:54:19.179395Z"
    }
   },
   "cell_type": "code",
   "source": [
    "# 3. Compare the results and justify whether the model is overfitting\n",
    "if train_accuracy > test_accuracy and train_f1 > test_f1:\n",
    "    print(\"The model might be overfitting as it performs better on the training data than on the testing data.\")\n",
    "else:\n",
    "    print(\"The model does not seem to be overfitting.\")"
   ],
   "outputs": [
    {
     "name": "stdout",
     "output_type": "stream",
     "text": [
      "The model might be overfitting as it performs better on the training data than on the testing data.\n"
     ]
    }
   ],
   "execution_count": 102
  },
  {
   "metadata": {
    "ExecuteTime": {
     "end_time": "2024-10-05T12:54:21.606311Z",
     "start_time": "2024-10-05T12:54:21.597919Z"
    }
   },
   "cell_type": "code",
   "source": [
    "# Print the results\n",
    "print(f\"Training Accuracy: {train_accuracy:.4f}\")\n",
    "print(f\"Training F1-Score: {train_f1:.4f}\")\n",
    "print(f\"Testing Accuracy: {test_accuracy:.4f}\")\n",
    "print(f\"Testing F1-Score: {test_f1:.4f}\")"
   ],
   "outputs": [
    {
     "name": "stdout",
     "output_type": "stream",
     "text": [
      "Training Accuracy: 1.0000\n",
      "Training F1-Score: 1.0000\n",
      "Testing Accuracy: 0.6987\n",
      "Testing F1-Score: 0.3804\n"
     ]
    }
   ],
   "execution_count": 103
  },
  {
   "cell_type": "markdown",
   "metadata": {},
   "source": [
    "### Step 3.2 Use the grid search and cross validation techniques to study the performance change with respect to the hyperparameter K (10 marks)\n",
    "1. User grid search to search K in the range (1, 30) both inclusive with 5-fold cross validation. The performance metric used for search is accuracy.\n",
    "2. Visualise the performance change with respect to K using a line chart. Report the two performance metrics for the best case."
   ]
  },
  {
   "cell_type": "code",
   "metadata": {
    "ExecuteTime": {
     "end_time": "2024-10-05T12:54:35.156419Z",
     "start_time": "2024-10-05T12:54:24.042181Z"
    }
   },
   "source": [
    "# 1.1 Define the parameter grid for K and initialise the KNN classifier\n",
    "param_grid = {'n_neighbors': range(1, 31)}\n",
    "knn = KNeighborsClassifier()\n",
    "\n",
    "# 1.2 Perform grid search  and get the results of the grid search, mean test score and corresponding values of K\n",
    "grid_search = GridSearchCV(estimator=knn, param_grid=param_grid, cv=5, scoring='accuracy')\n",
    "grid_search.fit(X_train, y_train)\n",
    "results = grid_search.cv_results_\n",
    "mean_test_scores = results['mean_test_score']\n",
    "k_values = range(1, 31)"
   ],
   "outputs": [],
   "execution_count": 104
  },
  {
   "metadata": {
    "ExecuteTime": {
     "end_time": "2024-10-05T12:54:36.657937Z",
     "start_time": "2024-10-05T12:54:36.564721Z"
    }
   },
   "cell_type": "code",
   "source": [
    "# 2.1 Plot the performance change with respect to K\n",
    "plt.figure(figsize=(12, 6))\n",
    "plt.plot(k_values, mean_test_scores, marker='o')\n",
    "plt.xlabel('Number of Neighbors K')\n",
    "plt.ylabel('Accuracy')\n",
    "plt.title('Performance Change with Respect to K')\n",
    "plt.grid(True)\n",
    "plt.show()"
   ],
   "outputs": [
    {
     "data": {
      "text/plain": [
       "<Figure size 1200x600 with 1 Axes>"
      ],
      "image/png": "[encoded data removed]"
     },
     "metadata": {},
     "output_type": "display_data"
    }
   ],
   "execution_count": 105
  },
  {
   "metadata": {
    "ExecuteTime": {
     "end_time": "2024-10-05T12:54:40.122598Z",
     "start_time": "2024-10-05T12:54:39.532080Z"
    }
   },
   "cell_type": "code",
   "source": [
    "# 2.2 Get the best K value and its corresponding performance metrics and train the KNN classifier with the best K value\n",
    "best_k = grid_search.best_params_['n_neighbors']\n",
    "best_accuracy = grid_search.best_score_\n",
    "\n",
    "best_knn = KNeighborsClassifier(n_neighbors=best_k)\n",
    "best_knn.fit(X_train, y_train)\n",
    "\n",
    "# 2.3 Predict on the training and testing data\n",
    "y_train_prediction = best_knn.predict(X_train)\n",
    "y_test_prediction = best_knn.predict(X_test)\n",
    "\n",
    "# 2.4 Calculate accuracy and F1-score for training and testing data\n",
    "train_accuracy = accuracy_score(y_train, y_train_prediction)\n",
    "train_f1 = f1_score(y_train, y_train_prediction)\n",
    "test_accuracy = accuracy_score(y_test, y_test_prediction)\n",
    "test_f1 = f1_score(y_test, y_test_prediction)"
   ],
   "outputs": [],
   "execution_count": 106
  },
  {
   "metadata": {
    "ExecuteTime": {
     "end_time": "2024-10-05T12:54:42.231461Z",
     "start_time": "2024-10-05T12:54:42.227727Z"
    }
   },
   "cell_type": "code",
   "source": [
    "# Print the results\n",
    "print(f\"Best K: {best_k}\")\n",
    "print(f\"Best Cross-Validation Accuracy: {best_accuracy:.4f}\")\n",
    "print(f\"Training Accuracy: {train_accuracy:.4f}\")\n",
    "print(f\"Training F1-Score: {train_f1:.4f}\")\n",
    "print(f\"Testing Accuracy: {test_accuracy:.4f}\")\n",
    "print(f\"Testing F1-Score: {test_f1:.4f}\")"
   ],
   "outputs": [
    {
     "name": "stdout",
     "output_type": "stream",
     "text": [
      "Best K: 13\n",
      "Best Cross-Validation Accuracy: 0.7759\n",
      "Training Accuracy: 0.8048\n",
      "Training F1-Score: 0.3940\n",
      "Testing Accuracy: 0.7744\n",
      "Testing F1-Score: 0.2723\n"
     ]
    }
   ],
   "execution_count": 107
  },
  {
   "cell_type": "markdown",
   "metadata": {},
   "source": [
    "### Step 3.3 Study how the distance metrics affect the model performance (10 marks)\n",
    "1. Change the distance metric parameter to 3 distance types: 'euclidean'(also l2), 'l1', and 'cosine', respectively, and visualise the model performance with these 3 distances, using a bar chart for both accuracy and f1 scores.\n",
    "2. Compare the performance metrics, which is the best? Which is the worest?"
   ]
  },
  {
   "cell_type": "code",
   "metadata": {
    "ExecuteTime": {
     "end_time": "2024-10-05T12:54:50.477061Z",
     "start_time": "2024-10-05T12:54:44.899331Z"
    }
   },
   "source": [
    "# 1.1 Define the distance metrics \n",
    "distance_metrics = ['euclidean', 'l1', 'cosine']\n",
    "performance_results = {'Metric': [], 'Train Accuracy': [], 'Test Accuracy': [], 'Train F1': [], 'Test F1': []}\n",
    "#1.2 Evaluate the model performance for each distance metric, predict and calculate training and testing data, and store the results\n",
    "for metric in distance_metrics:\n",
    "    knn = KNeighborsClassifier(n_neighbors=5, metric=metric) \n",
    "    knn.fit(X_train, y_train)\n",
    "    \n",
    "    y_train_predict = knn.predict(X_train)\n",
    "    y_test_predict = knn.predict(X_test)\n",
    "    \n",
    "    train_accuracy = accuracy_score(y_train, y_train_predict)\n",
    "    train_f1 = f1_score(y_train, y_train_predict)\n",
    "    test_accuracy = accuracy_score(y_test, y_test_predict)\n",
    "    test_f1 = f1_score(y_test, y_test_predict)\n",
    "    \n",
    "    performance_results['Metric'].append(metric)\n",
    "    performance_results['Train Accuracy'].append(train_accuracy)\n",
    "    performance_results['Test Accuracy'].append(test_accuracy)\n",
    "    performance_results['Train F1'].append(train_f1)\n",
    "    performance_results['Test F1'].append(test_f1)\n",
    "\n",
    "# 1.3 Convert the results to a DataFrame for easier visualization\n",
    "performance_df = pd.DataFrame(performance_results)\n",
    "\n",
    "# 1.4 Plot the performance metrics using Accuracy bar chart and F1-score bar chart\n",
    "fig, axes = plt.subplots(1, 2, figsize=(14, 6))\n",
    "\n",
    "performance_df.plot(x='Metric', y=['Train Accuracy', 'Test Accuracy'], kind='bar', ax=axes[0])\n",
    "axes[0].set_title('Accuracy by Distance Metric')\n",
    "axes[0].set_ylabel('Accuracy')\n",
    "axes[0].set_ylim(0, 1)\n",
    "\n",
    "performance_df.plot(x='Metric', y=['Train F1', 'Test F1'], kind='bar', ax=axes[1])\n",
    "axes[1].set_title('F1-Score by Distance Metric')\n",
    "axes[1].set_ylabel('F1-Score')\n",
    "axes[1].set_ylim(0, 1)\n",
    "\n",
    "plt.tight_layout()\n",
    "plt.show()"
   ],
   "outputs": [
    {
     "data": {
      "text/plain": [
       "<Figure size 1400x600 with 2 Axes>"
      ],
      "image/png": "[encoded data removed]"
     },
     "metadata": {},
     "output_type": "display_data"
    }
   ],
   "execution_count": 108
  },
  {
   "metadata": {
    "ExecuteTime": {
     "end_time": "2024-10-05T12:54:56.842544Z",
     "start_time": "2024-10-05T12:54:56.838274Z"
    }
   },
   "cell_type": "code",
   "source": [
    "# 2. Compare the performance metrics\n",
    "best_metric = performance_df.loc[performance_df['Test Accuracy'].idxmax(), 'Metric']\n",
    "worst_metric = performance_df.loc[performance_df['Test Accuracy'].idxmin(), 'Metric']\n",
    "\n",
    "print(f\"The best distance metric is: {best_metric}\")\n",
    "print(f\"The worst distance metric is: {worst_metric}\")"
   ],
   "outputs": [
    {
     "name": "stdout",
     "output_type": "stream",
     "text": [
      "The best distance metric is: l1\n",
      "The worst distance metric is: cosine\n"
     ]
    }
   ],
   "execution_count": 110
  }
 ],
 "metadata": {
  "colab": {
   "provenance": []
  },
  "kernelspec": {
   "display_name": "Python 3 (ipykernel)",
   "language": "python",
   "name": "python3"
  },
  "language_info": {
   "codemirror_mode": {
    "name": "ipython",
    "version": 3
   },
   "file_extension": ".py",
   "mimetype": "text/x-python",
   "name": "python",
   "nbconvert_exporter": "python",
   "pygments_lexer": "ipython3",
   "version": "3.12.4"
  }
 },
 "nbformat": 4,
 "nbformat_minor": 4
}
