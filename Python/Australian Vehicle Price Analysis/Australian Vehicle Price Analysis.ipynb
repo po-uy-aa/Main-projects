{
 "cells": [
  {
   "cell_type": "markdown",
   "metadata": {
    "id": "hqfK-B4Ji42K"
   },
   "source": [
    "# Data Science Project Based on Australian Vehicle Prices Dataset\n",
    "\n",
    "Mohammadpouya Alavi Naeini 48160202\n",
    "\n",
    "## Dataset Description:\n",
    "\n",
    "This dataset contains the latest information on car prices in Australia for the year 2023. It covers various brands, models, types, and features of cars sold in the Australian market. It provides useful insights into the trends and factors influencing the car prices in Australia. The dataset includes information such as brand, year, model, car/suv, title, used/new, transmission, engine, drive type, fuel type, fuel consumption, kilometres, colour (exterior/interior), location, cylinders in engine, body type, doors, seats, and price. The dataset has over 16,000 records of car listings from various online platforms in Australia.\n",
    "\n",
    "* Brand: Name of the car manufacturer\n",
    "* Year: Year of manufacture or release\n",
    "* Model: Name or code of the car model\n",
    "* Car/Suv: Type of the car (car or suv)\n",
    "* Title: Title or description of the car\n",
    "* UsedOrNew: Condition of the car (used or new)\n",
    "* Transmission: Type of transmission (manual or automatic)\n",
    "* Engine: Engine capacity or power (in litres or kilowatts)\n",
    "* DriveType: Type of drive (front-wheel, rear-wheel, or all-wheel)\n",
    "* FuelType: Type of fuel (petrol, diesel, hybrid, or electric)\n",
    "* FuelConsumption: Fuel consumption rate (in litres per 100 km)\n",
    "* Kilometres: Distance travelled by the car (in kilometres)\n",
    "* ColourExtInt: Colour of the car (exterior and interior)\n",
    "* Location: Location of the car (city and state)\n",
    "* CylindersinEngine: Number of cylinders in the engine\n",
    "* B odyType: Shape or style of the car body (sedan, hatchback, coupe, etc.)\n",
    "* Doors: Number of doors in the car\n",
    "* Seats: Number of seats in the car\n",
    "* Price: Price of the car (in Australian dollars)\n",
    "\n",
    "\n",
    "## AIM:\n",
    "\n",
    "We would like to predict the price of the car base on the cars' features (e.g. manufacture year, transmission, engine). Meanwhile, we like to compare the performance of different regression models.\n"
   ]
  },
  {
   "cell_type": "markdown",
   "metadata": {
    "id": "UrxD3Dzai42L"
   },
   "source": [
    "## Import Libraries\n",
    "\n",
    "Here we import all the libraries we need."
   ]
  },
  {
   "cell_type": "code",
   "metadata": {
    "id": "8JzDbr_6i42L",
    "executionInfo": {
     "status": "ok",
     "timestamp": 1729470891595,
     "user_tz": -660,
     "elapsed": 4075,
     "user": {
      "displayName": "Yuzhe Tian",
      "userId": "05567834028890049819"
     }
    },
    "ExecuteTime": {
     "end_time": "2024-11-02T11:12:02.484906Z",
     "start_time": "2024-11-02T11:12:02.211451Z"
    }
   },
   "source": [
    "import numpy as np\n",
    "import pandas as pd\n",
    "import seaborn as sns\n",
    "from bleach import clean\n",
    "\n",
    "from matplotlib import pyplot as plt\n",
    "%matplotlib inline\n",
    "\n",
    "import warnings\n",
    "warnings.filterwarnings(\"ignore\")\n",
    "\n",
    "from sklearn.preprocessing import OrdinalEncoder\n",
    "\n",
    "from sklearn.model_selection import train_test_split\n",
    "from sklearn import linear_model\n",
    "from sklearn.tree import DecisionTreeRegressor\n",
    "from sklearn.neural_network import MLPRegressor\n",
    "\n",
    "from sklearn.metrics import mean_squared_error\n",
    "from sklearn.metrics import r2_score\n",
    "\n",
    "# this is used for random seed\n",
    "student_id = 48160202"
   ],
   "outputs": [],
   "execution_count": 1
  },
  {
   "cell_type": "markdown",
   "metadata": {
    "id": "-pSVA9oDi42L"
   },
   "source": [
    "## Data Loading\n",
    "\n",
    "We load in the CSV file and print the table head of the source data to check what kind of feature data has been included."
   ]
  },
  {
   "cell_type": "code",
   "metadata": {
    "colab": {
     "base_uri": "https://localhost:8080/",
     "height": 522
    },
    "id": "2LKtHi4Ji42L",
    "outputId": "173e02d9-c8db-46b6-b9d4-6681c0f938c9",
    "executionInfo": {
     "status": "ok",
     "timestamp": 1729470891595,
     "user_tz": -660,
     "elapsed": 7,
     "user": {
      "displayName": "Yuzhe Tian",
      "userId": "05567834028890049819"
     }
    },
    "ExecuteTime": {
     "end_time": "2024-11-02T11:12:02.565978Z",
     "start_time": "2024-11-02T11:12:02.512437Z"
    }
   },
   "source": [
    "file_csv = \"australian_vehicle_prices.csv\"\n",
    "raw = pd.read_csv(file_csv)\n",
    "print(\"data shape is : \", raw.shape)\n",
    "raw.head()"
   ],
   "outputs": [
    {
     "name": "stdout",
     "output_type": "stream",
     "text": [
      "data shape is :  (16734, 19)\n"
     ]
    },
    {
     "data": {
      "text/plain": [
       "           Brand    Year   Model               Car/Suv  \\\n",
       "0      Ssangyong  2022.0  Rexton  Sutherland Isuzu Ute   \n",
       "1             MG  2022.0     MG3             Hatchback   \n",
       "2            BMW  2022.0    430I                 Coupe   \n",
       "3  Mercedes-Benz  2011.0    E500                 Coupe   \n",
       "4        Renault  2022.0  Arkana                   SUV   \n",
       "\n",
       "                                       Title UsedOrNew Transmission  \\\n",
       "0       2022 Ssangyong Rexton Ultimate (awd)      DEMO    Automatic   \n",
       "1  2022 MG MG3 Auto Excite (with Navigation)      USED    Automatic   \n",
       "2                      2022 BMW 430I M Sport      USED    Automatic   \n",
       "3           2011 Mercedes-Benz E500 Elegance      USED    Automatic   \n",
       "4                 2022 Renault Arkana Intens      USED    Automatic   \n",
       "\n",
       "         Engine DriveType  FuelType FuelConsumption Kilometres   ColourExtInt  \\\n",
       "0  4 cyl, 2.2 L       AWD    Diesel  8.7 L / 100 km       5595  White / Black   \n",
       "1  4 cyl, 1.5 L     Front   Premium  6.7 L / 100 km         16  Black / Black   \n",
       "2    4 cyl, 2 L      Rear   Premium  6.6 L / 100 km       8472   Grey / White   \n",
       "3  8 cyl, 5.5 L      Rear   Premium   11 L / 100 km     136517  White / Brown   \n",
       "4  4 cyl, 1.3 L     Front  Unleaded    6 L / 100 km       1035   Grey / Black   \n",
       "\n",
       "            Location CylindersinEngine   BodyType     Doors     Seats   Price  \n",
       "0     Caringbah, NSW             4 cyl        SUV   4 Doors   7 Seats   51990  \n",
       "1     Brookvale, NSW             4 cyl  Hatchback   5 Doors   5 Seats   19990  \n",
       "2      Sylvania, NSW             4 cyl      Coupe   2 Doors   4 Seats  108988  \n",
       "3  Mount Druitt, NSW             8 cyl      Coupe   2 Doors   4 Seats   32990  \n",
       "4   Castle Hill, NSW             4 cyl        SUV   4 Doors   5 Seats   34990  "
      ],
      "text/html": [
       "<div>\n",
       "<style scoped>\n",
       "    .dataframe tbody tr th:only-of-type {\n",
       "        vertical-align: middle;\n",
       "    }\n",
       "\n",
       "    .dataframe tbody tr th {\n",
       "        vertical-align: top;\n",
       "    }\n",
       "\n",
       "    .dataframe thead th {\n",
       "        text-align: right;\n",
       "    }\n",
       "</style>\n",
       "<table border=\"1\" class=\"dataframe\">\n",
       "  <thead>\n",
       "    <tr style=\"text-align: right;\">\n",
       "      <th></th>\n",
       "      <th>Brand</th>\n",
       "      <th>Year</th>\n",
       "      <th>Model</th>\n",
       "      <th>Car/Suv</th>\n",
       "      <th>Title</th>\n",
       "      <th>UsedOrNew</th>\n",
       "      <th>Transmission</th>\n",
       "      <th>Engine</th>\n",
       "      <th>DriveType</th>\n",
       "      <th>FuelType</th>\n",
       "      <th>FuelConsumption</th>\n",
       "      <th>Kilometres</th>\n",
       "      <th>ColourExtInt</th>\n",
       "      <th>Location</th>\n",
       "      <th>CylindersinEngine</th>\n",
       "      <th>BodyType</th>\n",
       "      <th>Doors</th>\n",
       "      <th>Seats</th>\n",
       "      <th>Price</th>\n",
       "    </tr>\n",
       "  </thead>\n",
       "  <tbody>\n",
       "    <tr>\n",
       "      <th>0</th>\n",
       "      <td>Ssangyong</td>\n",
       "      <td>2022.0</td>\n",
       "      <td>Rexton</td>\n",
       "      <td>Sutherland Isuzu Ute</td>\n",
       "      <td>2022 Ssangyong Rexton Ultimate (awd)</td>\n",
       "      <td>DEMO</td>\n",
       "      <td>Automatic</td>\n",
       "      <td>4 cyl, 2.2 L</td>\n",
       "      <td>AWD</td>\n",
       "      <td>Diesel</td>\n",
       "      <td>8.7 L / 100 km</td>\n",
       "      <td>5595</td>\n",
       "      <td>White / Black</td>\n",
       "      <td>Caringbah, NSW</td>\n",
       "      <td>4 cyl</td>\n",
       "      <td>SUV</td>\n",
       "      <td>4 Doors</td>\n",
       "      <td>7 Seats</td>\n",
       "      <td>51990</td>\n",
       "    </tr>\n",
       "    <tr>\n",
       "      <th>1</th>\n",
       "      <td>MG</td>\n",
       "      <td>2022.0</td>\n",
       "      <td>MG3</td>\n",
       "      <td>Hatchback</td>\n",
       "      <td>2022 MG MG3 Auto Excite (with Navigation)</td>\n",
       "      <td>USED</td>\n",
       "      <td>Automatic</td>\n",
       "      <td>4 cyl, 1.5 L</td>\n",
       "      <td>Front</td>\n",
       "      <td>Premium</td>\n",
       "      <td>6.7 L / 100 km</td>\n",
       "      <td>16</td>\n",
       "      <td>Black / Black</td>\n",
       "      <td>Brookvale, NSW</td>\n",
       "      <td>4 cyl</td>\n",
       "      <td>Hatchback</td>\n",
       "      <td>5 Doors</td>\n",
       "      <td>5 Seats</td>\n",
       "      <td>19990</td>\n",
       "    </tr>\n",
       "    <tr>\n",
       "      <th>2</th>\n",
       "      <td>BMW</td>\n",
       "      <td>2022.0</td>\n",
       "      <td>430I</td>\n",
       "      <td>Coupe</td>\n",
       "      <td>2022 BMW 430I M Sport</td>\n",
       "      <td>USED</td>\n",
       "      <td>Automatic</td>\n",
       "      <td>4 cyl, 2 L</td>\n",
       "      <td>Rear</td>\n",
       "      <td>Premium</td>\n",
       "      <td>6.6 L / 100 km</td>\n",
       "      <td>8472</td>\n",
       "      <td>Grey / White</td>\n",
       "      <td>Sylvania, NSW</td>\n",
       "      <td>4 cyl</td>\n",
       "      <td>Coupe</td>\n",
       "      <td>2 Doors</td>\n",
       "      <td>4 Seats</td>\n",
       "      <td>108988</td>\n",
       "    </tr>\n",
       "    <tr>\n",
       "      <th>3</th>\n",
       "      <td>Mercedes-Benz</td>\n",
       "      <td>2011.0</td>\n",
       "      <td>E500</td>\n",
       "      <td>Coupe</td>\n",
       "      <td>2011 Mercedes-Benz E500 Elegance</td>\n",
       "      <td>USED</td>\n",
       "      <td>Automatic</td>\n",
       "      <td>8 cyl, 5.5 L</td>\n",
       "      <td>Rear</td>\n",
       "      <td>Premium</td>\n",
       "      <td>11 L / 100 km</td>\n",
       "      <td>136517</td>\n",
       "      <td>White / Brown</td>\n",
       "      <td>Mount Druitt, NSW</td>\n",
       "      <td>8 cyl</td>\n",
       "      <td>Coupe</td>\n",
       "      <td>2 Doors</td>\n",
       "      <td>4 Seats</td>\n",
       "      <td>32990</td>\n",
       "    </tr>\n",
       "    <tr>\n",
       "      <th>4</th>\n",
       "      <td>Renault</td>\n",
       "      <td>2022.0</td>\n",
       "      <td>Arkana</td>\n",
       "      <td>SUV</td>\n",
       "      <td>2022 Renault Arkana Intens</td>\n",
       "      <td>USED</td>\n",
       "      <td>Automatic</td>\n",
       "      <td>4 cyl, 1.3 L</td>\n",
       "      <td>Front</td>\n",
       "      <td>Unleaded</td>\n",
       "      <td>6 L / 100 km</td>\n",
       "      <td>1035</td>\n",
       "      <td>Grey / Black</td>\n",
       "      <td>Castle Hill, NSW</td>\n",
       "      <td>4 cyl</td>\n",
       "      <td>SUV</td>\n",
       "      <td>4 Doors</td>\n",
       "      <td>5 Seats</td>\n",
       "      <td>34990</td>\n",
       "    </tr>\n",
       "  </tbody>\n",
       "</table>\n",
       "</div>"
      ]
     },
     "execution_count": 2,
     "metadata": {},
     "output_type": "execute_result"
    }
   ],
   "execution_count": 2
  },
  {
   "cell_type": "markdown",
   "source": [
    "It shows that the raw dataset has 16,734 samples, each sample contains 19 values.\n"
   ],
   "metadata": {
    "id": "mMiKy0oflkrS"
   }
  },
  {
   "cell_type": "markdown",
   "source": [
    "We drop the column **Title**, **ColourExtInt** and **Model** because they are irrelevant. The column **Car/Suv** are also dropped because it's overlapping with **BodyType**. Then we check the shape."
   ],
   "metadata": {
    "id": "n87y0jg7DyHq"
   }
  },
  {
   "metadata": {
    "ExecuteTime": {
     "end_time": "2024-11-02T11:12:02.720173Z",
     "start_time": "2024-11-02T11:12:02.716344Z"
    }
   },
   "cell_type": "code",
   "source": [
    "data = raw.drop(columns=['Title', 'Car/Suv', 'ColourExtInt', 'Model'])\n",
    "print(data.shape)"
   ],
   "outputs": [
    {
     "name": "stdout",
     "output_type": "stream",
     "text": [
      "(16734, 15)\n"
     ]
    }
   ],
   "execution_count": 3
  },
  {
   "cell_type": "markdown",
   "source": [
    "We would like to do a further check to see the possible values of each column."
   ],
   "metadata": {
    "id": "qatZxhen5QeG"
   }
  },
  {
   "cell_type": "code",
   "source": [
    "# Loop through each column and print the unique values\n",
    "for column in data.columns:\n",
    "    unique_values = data[column].unique()\n",
    "    print(f\"Unique values for column '{column}':\")\n",
    "    print(unique_values)\n",
    "    print(\"\\n\")"
   ],
   "metadata": {
    "id": "aLox3M_v6Bk-",
    "colab": {
     "base_uri": "https://localhost:8080/"
    },
    "executionInfo": {
     "status": "ok",
     "timestamp": 1729470896464,
     "user_tz": -660,
     "elapsed": 365,
     "user": {
      "displayName": "Yuzhe Tian",
      "userId": "05567834028890049819"
     }
    },
    "outputId": "39b1572a-d838-4795-8a85-03cc2ab10881",
    "ExecuteTime": {
     "end_time": "2024-11-02T11:12:02.788258Z",
     "start_time": "2024-11-02T11:12:02.780815Z"
    }
   },
   "outputs": [
    {
     "name": "stdout",
     "output_type": "stream",
     "text": [
      "Unique values for column 'Brand':\n",
      "['Ssangyong' 'MG' 'BMW' 'Mercedes-Benz' 'Renault' 'Toyota' 'Land' 'Nissan'\n",
      " 'Honda' 'Volkswagen' 'Mitsubishi' 'Ford' 'Subaru' 'Hyundai' 'Jeep'\n",
      " 'Volvo' 'Mazda' 'Abarth' 'Holden' 'Audi' 'Kia' 'Mini' 'Peugeot' 'Suzuki'\n",
      " 'Dodge' 'Porsche' 'Daihatsu' 'Isuzu' 'Lexus' 'Jaguar' 'Rolls-Royce'\n",
      " 'Skoda' 'Fiat' 'Haval' 'Citroen' 'LDV' 'HSV' 'Foton' 'Mahindra'\n",
      " 'Maserati' 'Alfa' 'GWM' 'Ram' 'Tesla' 'Genesis' 'Chrysler' 'Great' 'Opel'\n",
      " 'Saab' 'Bentley' 'Rover' nan 'Ferrari' 'Cupra' 'Chevrolet' 'Lamborghini'\n",
      " 'FPV' 'McLaren' 'Chery' 'Iveco' 'Hummer' 'Infiniti' 'BYD' 'Tata' 'Aston'\n",
      " 'Daewoo' 'Proton' 'Geely' 'Smart' 'Ineos' 'Caterham' 'Hino'\n",
      " 'International' 'Lotus' 'Polestar' 'Datsun' 'Packard']\n",
      "\n",
      "\n",
      "Unique values for column 'Year':\n",
      "[2022. 2011. 2004. 2017. 2000. 2013. 2014. 2009. 2018. 2015. 2016. 2012.\n",
      " 2023. 2005. 2019. 2021. 2007. 2010. 2003. 2008. 2006. 2020. 1999. 2002.\n",
      " 1995. 1997. 1993. 2001. 1998. 1985. 1992.   nan 1986. 1996. 1994. 1989.\n",
      " 1990. 1981. 1991. 1959. 1970. 1984. 1975. 1979. 1978. 1940.]\n",
      "\n",
      "\n",
      "Unique values for column 'UsedOrNew':\n",
      "['DEMO' 'USED' 'NEW' nan]\n",
      "\n",
      "\n",
      "Unique values for column 'Transmission':\n",
      "['Automatic' 'Manual' '-' nan]\n",
      "\n",
      "\n",
      "Unique values for column 'Engine':\n",
      "['4 cyl, 2.2 L' '4 cyl, 1.5 L' '4 cyl, 2 L' '8 cyl, 5.5 L' '4 cyl, 1.3 L'\n",
      " '-' '4 cyl, 1.6 L' '4 cyl, 2.7 L' '4 cyl, 3 L' '4 cyl, 1.4 L'\n",
      " '3 cyl, 1 L' '4 cyl, 2.4 L' '6 cyl, 3 L' '4 cyl, 2.5 L' '3 cyl, 1.2 L'\n",
      " '6 cyl, 2.7 L' '4 cyl, 1.8 L' '6 cyl, 4 L' '6 cyl, 3.5 L' '6 cyl, 3.2 L'\n",
      " '8 cyl, 6 L' '5 cyl, 3.2 L' '4 cyl, 2.3 L' '8 cyl, 4.1 L' '6 cyl, 3.6 L'\n",
      " '4 cyl, 1.2 L' '8 cyl, 4.8 L' '6 cyl, 3.8 L' '5 cyl, 2.5 L'\n",
      " '6 cyl, 3.3 L' '6 cyl, 4.2 L' '3 cyl, 1.5 L' '4 cyl, 2.8 L'\n",
      " '8 cyl, 4.5 L' '12 cyl, 6.6 L' '6 cyl, 3.7 L' '4 cyl, 2.1 L'\n",
      " '3 cyl, 1.3 L' '8 cyl, 4.4 L' '6 cyl, 2.5 L' '8 cyl, 5 L' '8 cyl, 4.2 L'\n",
      " '3 cyl, 1.6 L' '4 cyl, 1.9 L' '0 L' '8 cyl, 4 L' '8 cyl, 5.7 L'\n",
      " '4 cyl, 3.2 L' '2 cyl, 0.9 L' '8 cyl, 6.2 L' '8 cyl, 4.7 L'\n",
      " '6 cyl, 2.4 L' '4 cyl, 1.7 L' '5 cyl, 2.4 L' '8 cyl, 4.6 L'\n",
      " '8 cyl, 6.4 L' '6 cyl, 2.8 L' '6 cyl, 2.9 L' '8 cyl, 5.4 L'\n",
      " '6 cyl, 2.2 L' '8 cyl, 6.8 L' nan '8 cyl, 5.6 L' '8 cyl, 3.6 L'\n",
      " '8 cyl, 3 L' '6 cyl, 4.5 L' '12 cyl, 5.3 L' '8 cyl, 4.9 L' '8 cyl, 3.8 L'\n",
      " '12 cyl, 6 L' '6 cyl, 2.6 L' '8 cyl, 7.3 L' '2 cyl, 1.3 L' '8 cyl, 4.3 L'\n",
      " '6 cyl, 3.1 L' '5 cyl, 2.9 L' '12 cyl, 6.3 L' '4 cyl, 2.9 L'\n",
      " '10 cyl, 5 L' '4 cyl, 2.6 L' '6 cyl, 4.8 L' '6 cyl, 3.4 L' '8 cyl, 3.9 L'\n",
      " '8 cyl, 6.1 L' '4 cyl' '12 cyl, 6.5 L' '6 cyl, 2.1 L' '12 cyl, 5.7 L'\n",
      " '12 cyl, 5.9 L' '5 cyl, 2 L' '5 cyl, 2.7 L' '3 cyl, 0.7 L' '6 cyl, 7.8 L'\n",
      " '4 cyl, 5.1 L' '6 cyl, 0 L' '6 cyl, 8.9 L' '6 cyl, 9.8 L' '6 cyl, 7.7 L'\n",
      " '2 L' '4 cyl, 4 L' '6 cyl, 6.7 L' '12 cyl, 5.2 L' '4 cyl, 5.2 L'\n",
      " '4 cyl, 3.9 L' '4 cyl, 3.8 L' '3 cyl, 2 L' '10 cyl, 5.2 L']\n",
      "\n",
      "\n",
      "Unique values for column 'DriveType':\n",
      "['AWD' 'Front' 'Rear' 'Other' '4WD' nan]\n",
      "\n",
      "\n",
      "Unique values for column 'FuelType':\n",
      "['Diesel' 'Premium' 'Unleaded' 'Hybrid' '-' 'Other' 'Electric' 'LPG'\n",
      " 'Leaded' nan]\n",
      "\n",
      "\n",
      "Unique values for column 'FuelConsumption':\n",
      "['8.7 L / 100 km' '6.7 L / 100 km' '6.6 L / 100 km' '11 L / 100 km'\n",
      " '6 L / 100 km' '-' '5.1 L / 100 km' '8 L / 100 km' '7.1 L / 100 km'\n",
      " '4.5 L / 100 km' '9.8 L / 100 km' '6.2 L / 100 km' '5.6 L / 100 km'\n",
      " '5.4 L / 100 km' '7.5 L / 100 km' '6.1 L / 100 km' '8.4 L / 100 km'\n",
      " '5.8 L / 100 km' '4.7 L / 100 km' '7.9 L / 100 km' '8.2 L / 100 km'\n",
      " '6.9 L / 100 km' '8.1 L / 100 km' '4.2 L / 100 km' '7.7 L / 100 km'\n",
      " '9.1 L / 100 km' '0 L / 100 km' '7.4 L / 100 km' '7.6 L / 100 km'\n",
      " '7.8 L / 100 km' '9.9 L / 100 km' '10.9 L / 100 km' '9.6 L / 100 km'\n",
      " '10 L / 100 km' '8.8 L / 100 km' '6.4 L / 100 km' '8.9 L / 100 km'\n",
      " '9 L / 100 km' '6.3 L / 100 km' '10.4 L / 100 km' '7.2 L / 100 km'\n",
      " '5.5 L / 100 km' '14.5 L / 100 km' '5.9 L / 100 km' '9.3 L / 100 km'\n",
      " '11.5 L / 100 km' '7.3 L / 100 km' '9.2 L / 100 km' '4.8 L / 100 km'\n",
      " '10.1 L / 100 km' '8.3 L / 100 km' '6.5 L / 100 km' '8.6 L / 100 km'\n",
      " '5.2 L / 100 km' '4.9 L / 100 km' '8.5 L / 100 km' '10.5 L / 100 km'\n",
      " '10.3 L / 100 km' '12.2 L / 100 km' '7 L / 100 km' '9.5 L / 100 km'\n",
      " '16 L / 100 km' '9.4 L / 100 km' '6.8 L / 100 km' '4.6 L / 100 km'\n",
      " '11.6 L / 100 km' '5.3 L / 100 km' '9.7 L / 100 km' '10.6 L / 100 km'\n",
      " '11.8 L / 100 km' '10.2 L / 100 km' '3.3 L / 100 km' '5.7 L / 100 km'\n",
      " '10.8 L / 100 km' '13.6 L / 100 km' '10.7 L / 100 km' '11.3 L / 100 km'\n",
      " '14.6 L / 100 km' '13 L / 100 km' '4.1 L / 100 km' '3.6 L / 100 km'\n",
      " '12.1 L / 100 km' '17.2 L / 100 km' '12.3 L / 100 km' '12.8 L / 100 km'\n",
      " '13.3 L / 100 km' '12.7 L / 100 km' '13.2 L / 100 km' '15.1 L / 100 km'\n",
      " '3.9 L / 100 km' '5 L / 100 km' '14.8 L / 100 km' '11.7 L / 100 km'\n",
      " '16.4 L / 100 km' '13.7 L / 100 km' '12.6 L / 100 km' '11.2 L / 100 km'\n",
      " '13.8 L / 100 km' '4.4 L / 100 km' '11.1 L / 100 km' '12.4 L / 100 km'\n",
      " '4 L / 100 km' '12 L / 100 km' '3.8 L / 100 km' '1.9 L / 100 km'\n",
      " '11.4 L / 100 km' '13.5 L / 100 km' '27 L / 100 km' nan '11.9 L / 100 km'\n",
      " '14.4 L / 100 km' '13.4 L / 100 km' '14.9 L / 100 km' '20 L / 100 km'\n",
      " '15.4 L / 100 km' '15.5 L / 100 km' '1.7 L / 100 km' '12.5 L / 100 km'\n",
      " '17 L / 100 km' '16.8 L / 100 km' '12.9 L / 100 km' '13.9 L / 100 km'\n",
      " '13.1 L / 100 km' '15 L / 100 km' '17.1 L / 100 km' '4.3 L / 100 km'\n",
      " '18.3 L / 100 km' '14 L / 100 km' '14.2 L / 100 km' '15.2 L / 100 km'\n",
      " '15.3 L / 100 km' '14.3 L / 100 km' '15.7 L / 100 km' '3.5 L / 100 km'\n",
      " '2.6 L / 100 km' '19.8 L / 100 km' '18.6 L / 100 km' '16.2 L / 100 km'\n",
      " '18.1 L / 100 km' '2.4 L / 100 km' '19.1 L / 100 km' '17.4 L / 100 km'\n",
      " '16.9 L / 100 km' '20.7 L / 100 km' '19 L / 100 km' '14.1 L / 100 km'\n",
      " '3.7 L / 100 km' '16.5 L / 100 km' '2.5 L / 100 km' '3.4 L / 100 km'\n",
      " '14.7 L / 100 km' '17.8 L / 100 km' '1.6 L / 100 km' '2.2 L / 100 km'\n",
      " '3.2 L / 100 km' '2.3 L / 100 km' '16.6 L / 100 km' '15.8 L / 100 km']\n",
      "\n",
      "\n",
      "Unique values for column 'Kilometres':\n",
      "['5595' '16' '8472' ... '5165' '85525' '31852']\n",
      "\n",
      "\n",
      "Unique values for column 'Location':\n",
      "['Caringbah, NSW' 'Brookvale, NSW' 'Sylvania, NSW' 'Mount Druitt, NSW'\n",
      " 'Castle Hill, NSW' 'Saint Marys, NSW' 'Blacktown, NSW'\n",
      " 'Wentworthville, NSW' 'Mcgraths Hill, NSW' 'Lidcombe, NSW'\n",
      " 'Rouse Hill, NSW' 'Five Dock, NSW' 'Haberfield, NSW' 'Cabramatta, NSW'\n",
      " 'Glebe, NSW' 'Camden, NSW' 'Lansvale, NSW' 'Croydon, NSW'\n",
      " 'Pendle Hill, NSW' 'Smithfield, NSW' 'Ingleburn, NSW' 'Seven Hills, NSW'\n",
      " 'Granville, NSW' 'Minchinbury, NSW' 'Ryde, NSW' 'Homebush, NSW'\n",
      " 'Elderslie, NSW' 'Campbelltown, NSW' 'Bankstown, NSW'\n",
      " 'North Narrabeen, NSW' 'Chester Hill, NSW' 'Liverpool, NSW'\n",
      " 'West Ryde, NSW' 'Kirrawee, NSW' 'Smeaton Grange, NSW' 'Minto, NSW'\n",
      " 'Windsor, NSW' 'Penrith, NSW' 'Kogarah, NSW' 'South Windsor, NSW'\n",
      " 'Artarmon, NSW' 'Arncliffe, NSW' 'Darlinghurst, NSW' 'Eastern Creek, NSW'\n",
      " 'Rydalmere, NSW' 'Carlton, NSW' 'Leichhardt, NSW' 'Punchbowl, NSW'\n",
      " 'Strathfield, NSW' 'Wollongong, NSW' 'Banksia, NSW' 'Adamstown, NSW'\n",
      " 'Cardiff, NSW' 'Pennant Hills, NSW' 'East Maitland, NSW' 'Rozelle, NSW'\n",
      " 'Petersham, NSW' 'Jamisontown, NSW' 'Gateshead, NSW' 'Kurri Kurri, NSW'\n",
      " 'Richmond, NSW' 'Milperra, NSW' 'Rushcutters Bay, NSW' 'Waitara, NSW'\n",
      " 'Singleton, NSW' 'Warwick Farm, NSW' 'Chipping Norton, NSW'\n",
      " 'Taylors Beach, NSW' 'Taree, NSW' 'Port Macquarie, NSW' 'Belmore, NSW'\n",
      " 'Roselands, NSW' 'Greenacre, NSW' 'Concord, NSW' 'Moorebank, NSW'\n",
      " 'Berwick, VIC' 'Regents Park, NSW' 'Yagoona, NSW'\n",
      " 'Upper Ferntree Gully, VIC' 'Sutherland, NSW' 'Molendinar, QLD'\n",
      " 'Pakenham, VIC' 'Auburn, NSW' 'Arundel, QLD' 'Southport, QLD'\n",
      " 'Narellan, NSW' 'Lilydale, VIC' 'Epping, VIC' 'Fairfield East, NSW'\n",
      " 'Tweed Heads South, NSW' 'Sydney, NSW' 'South Hurstville, NSW'\n",
      " 'Revesby, NSW' 'Archerfield, QLD' 'Mornington, VIC' 'Cheltenham, VIC'\n",
      " 'Burwood, NSW' 'Springwood, QLD' 'Laverton North, VIC' 'Bentleigh, VIC'\n",
      " 'Capalaba, QLD' 'Braeside, VIC' 'Coopers Plains, QLD' 'Roseville, NSW'\n",
      " 'Slacks Creek, QLD' 'Waterloo, NSW' 'Thornleigh, NSW' 'Zetland, NSW'\n",
      " 'Alexandria, NSW' 'Chatswood, NSW' 'Underwood, QLD' 'Banyo, QLD'\n",
      " 'Bass Hill, NSW' 'Mascot, NSW' 'Morayfield, QLD' 'Bells Creek, QLD'\n",
      " 'Enfield, SA' 'Goolwa, SA' 'Strathalbyn, SA' 'Condell Park, NSW'\n",
      " 'Cheltenham, SA' 'Melrose Park, SA' 'Morphett Vale, SA' 'Brighton, SA'\n",
      " 'Townsville, QLD' 'Bassendean, WA' 'Bentley, WA' 'Welshpool, WA'\n",
      " 'Osborne Park, WA' 'Dudley Park, WA' 'Cannington, WA' 'Bibra Lake, WA'\n",
      " 'Mosman, NSW' 'Mandurah, WA' 'Leumeah, NSW' 'Rockingham, WA'\n",
      " 'Nedlands, WA' 'Myaree, WA' 'Bunbury, WA' 'Ashfield, NSW' 'Monterey, NSW'\n",
      " 'Balcatta, WA' 'Homebush West, NSW' 'Carss Park, NSW' 'Stanmore, NSW'\n",
      " 'Padstow, NSW' 'Wangara, WA' 'Clarkson, WA' 'Campsie, NSW'\n",
      " 'North Strathfield, NSW' 'McDougalls Hill, NSW' 'Labrador, QLD'\n",
      " 'Fairfield, VIC' 'Truganina, VIC' 'Kellyville, NSW' 'Camira, QLD'\n",
      " 'Lindfield, NSW' 'Merrylands, NSW' nan 'Essendon, VIC' 'Silverwater, NSW'\n",
      " 'Chullora, NSW' 'Mount Lawley, WA' 'West Gosford, NSW'\n",
      " 'North Wollongong, NSW' 'Albion Park, NSW' 'Yallah, NSW' 'Lisarow, NSW'\n",
      " 'Albion Park Rail, NSW' 'Erina, NSW' 'Tuggerah, NSW' 'Moss Vale, NSW'\n",
      " 'Oak Flats, NSW' 'Lithgow, NSW' 'Mittagong, NSW' 'Gosford, NSW'\n",
      " 'Windang, NSW' 'Hamilton East, NSW' 'Bowral, NSW' 'Beresfield, NSW'\n",
      " 'Maryville, NSW' 'Hamilton, NSW' 'South Nowra, NSW' 'Sandgate, NSW'\n",
      " 'Nowra, NSW' 'Medlow Bath, NSW' 'Waratah, NSW' 'Warners Bay, NSW'\n",
      " 'New Lambton, NSW' 'Dapto, NSW' 'Boolaroo, NSW' 'Lambton, NSW'\n",
      " 'Wickham, NSW' 'Maitland, NSW' 'Mayfield West, NSW' 'Rutherford, NSW'\n",
      " 'Hamilton North, NSW' 'Mayfield, NSW' 'Glendale, NSW' 'Edgeworth, NSW'\n",
      " 'Cessnock, NSW' 'Broadmeadow, NSW' 'Kelso, NSW' 'Heatherbrae, NSW'\n",
      " 'Bathurst, NSW' 'Bennetts Green, NSW' 'Islington, NSW'\n",
      " 'Raymond Terrace, NSW' 'Taren Point, NSW' 'Belmont, NSW' 'Orange, NSW'\n",
      " 'Newcastle West, NSW' 'Goulburn, NSW' 'Muswellbrook, NSW'\n",
      " 'Ulladulla, NSW' 'Belconnen, ACT' 'Yass, NSW' 'Fyshwick, ACT'\n",
      " 'Phillip, ACT' 'Crookwell, NSW' 'Hume, ACT' 'Branxton, NSW'\n",
      " 'Gungahlin, ACT' 'Tuncurry, NSW' 'Batemans Bay, NSW' 'Moruya, NSW'\n",
      " 'Greenway, ACT' 'Harrington, NSW' 'Wauchope, NSW' 'South Tamworth, NSW'\n",
      " 'Bega, NSW' 'Armidale, NSW' 'Macksville, NSW' 'Lavington, NSW'\n",
      " 'Coffs Harbour, NSW' 'Holbrook, NSW' 'Walla Walla, NSW' 'Wodonga, VIC'\n",
      " 'Forbes, NSW' 'Wangaratta, VIC' 'Bairnsdale, VIC' 'Lismore, NSW'\n",
      " 'Stanthorpe, QLD' 'Shepparton, VIC' 'Walcha, NSW' 'Traralgon, VIC'\n",
      " 'Seymour, VIC' 'West Ballina, NSW' 'Echuca, VIC' 'Kyabram, VIC'\n",
      " 'Dandenong South, VIC' 'Dandenong, VIC' 'Bayswater, VIC' 'Vermont, VIC'\n",
      " 'Tugun, QLD' 'Ashmore, QLD' 'Thomastown, VIC' 'Burwood, VIC'\n",
      " 'Narre Warren, VIC' 'Alphington, VIC' 'Mulgrave, VIC' 'HEIDELBERG, VIC'\n",
      " 'Sale, VIC' 'Preston, VIC' 'Ringwood, VIC' 'Springvale, VIC'\n",
      " 'Ferntree Gully, VIC' 'Nunawading, VIC' 'Epsom, VIC' 'Briar Hill, VIC'\n",
      " 'Coburg North, VIC' 'Boronia, VIC' 'Bundoora, VIC' 'Fawkner, VIC'\n",
      " 'Thornbury, VIC' 'Burleigh Heads, QLD' 'Nerang, QLD' 'Robina, QLD'\n",
      " 'South Morang, VIC' 'SOUTH MORANG, VIC' 'Helensvale, QLD'\n",
      " 'Loftville, NSW' 'Hallam, VIC' 'Officer, VIC' 'CAMBERWELL, VIC'\n",
      " 'BAYSWATER NORTH, VIC' 'Watsonia, VIC' 'EPPING, VIC' 'Balwyn, VIC'\n",
      " 'Warragul, VIC' 'South Grafton, NSW' 'Currumbin Waters, QLD'\n",
      " 'Morwell, VIC' 'Bendigo, VIC' 'Mitcham, VIC' 'Tweed Heads, NSW'\n",
      " 'Biggera Waters, QLD' 'Doncaster, VIC' 'FAWKNER, VIC'\n",
      " 'Golden Square, VIC' 'Mill Park, VIC' 'Wantirna, VIC'\n",
      " 'Campbellfield, VIC' 'Coburg, VIC' 'DONCASTER, VIC' 'Seaford, VIC'\n",
      " 'Moorabbin, VIC' 'Mordialloc, VIC' 'Braybrook, VIC' 'Carrum Downs, VIC'\n",
      " 'Dingley Village, VIC' 'Coorparoo, QLD' 'Avondale Heights, VIC'\n",
      " 'Rocklea, QLD' 'Frankston, VIC' 'Kedron, QLD' 'Albion, QLD'\n",
      " 'Port Melbourne, VIC' 'Mount Gravatt, QLD' 'West Footscray, VIC'\n",
      " 'Pinkenba, QLD' 'Moorooka, QLD' 'Hillcrest, QLD' 'Deer Park, VIC'\n",
      " 'SOUTH MELBOURNE, VIC' 'Murrumbeena, VIC' 'Maidstone, VIC'\n",
      " 'Brooklyn, VIC' 'Ravenhall, VIC' 'Oakleigh, VIC' 'Morningside, QLD'\n",
      " 'Hoppers Crossing, VIC' 'Everton Hills, QLD' 'Greenslopes, QLD'\n",
      " 'Ipswich, QLD' 'Clayton South, VIC' 'Hamilton, QLD' 'Elsternwick, VIC'\n",
      " 'Eagle Farm, QLD' 'Point Cook, VIC' 'Toowoomba, QLD' 'Williamstown, VIC'\n",
      " 'Hendra, QLD' 'Chermside, QLD' 'Werribee, VIC' 'South Melbourne, VIC'\n",
      " 'Cranbourne, VIC' 'Mansfield, QLD' 'Altona North, VIC'\n",
      " 'Toowoomba City, QLD' 'Sumner, QLD' 'Acacia Ridge, QLD'\n",
      " 'South Toowoomba, QLD' 'Croydon, VIC' 'Swan Hill, VIC' 'Coomera, QLD'\n",
      " 'Mudgeeraba, QLD' 'Tingalpa, QLD' 'Nundah, QLD' 'Woodridge, QLD'\n",
      " 'Essendon Fields, VIC' 'Brighton, VIC' 'Mentone, VIC' 'Cleveland, QLD'\n",
      " 'Browns Plains, QLD' 'Carbrook, QLD' 'Yatala, QLD' 'Virginia, QLD'\n",
      " 'Woongoolba, QLD' 'Loganholme, QLD' 'Keysborough, VIC' 'Melbourne, VIC'\n",
      " 'Windsor, QLD' 'Sunbury, VIC' 'North Ipswich, QLD' 'Sunnybank Hills, QLD'\n",
      " 'Indooroopilly, QLD' 'Eight Mile Plains, QLD' 'Aspley, QLD'\n",
      " 'Yamanto, QLD' 'Geebung, QLD' 'MELBOURNE, VIC' 'Lyndhurst, VIC'\n",
      " 'Oakleigh South, VIC' 'Southbank, VIC' 'Kelvin Grove, QLD'\n",
      " 'Parkdale, VIC' 'Blackburn, VIC' 'Tullamarine, VIC' 'Gatton, QLD'\n",
      " 'Glenroy, VIC' 'St Albans, VIC' 'Keilor East, VIC' 'Wacol, QLD'\n",
      " 'Melton, VIC' 'Reservoir, VIC' 'Hastings, VIC' 'Bacchus Marsh, VIC'\n",
      " 'Fortitude Valley, QLD' 'Williamstown North, VIC' 'Huntingdale, VIC'\n",
      " 'Seventeen Mile Rocks, QLD' 'Yarraville, VIC' 'Bentleigh East, VIC'\n",
      " 'Murarrie, QLD' 'Thornlands, QLD' 'Holland Park West, QLD'\n",
      " 'Footscray, VIC' 'Wilston, QLD' 'Caroline Springs, VIC' 'Derrimut, VIC'\n",
      " 'Dinmore, QLD' 'Bundamba, QLD' 'Sunshine North, VIC' 'Clontarf, QLD'\n",
      " 'Geelong, VIC' 'South Geelong, VIC' 'Strathpine, QLD' 'Wendouree, VIC'\n",
      " 'Northgate, QLD' 'North Geelong, VIC' 'Delacombe, VIC' 'North Lakes, QLD'\n",
      " 'Lawnton, QLD' 'Brown Hill, VIC' 'Ballarat, VIC' 'Tyabb, VIC'\n",
      " 'Newtown, VIC' 'Geelong West, VIC' 'Sebastopol, VIC' 'Redcliffe, QLD'\n",
      " 'Belmont, VIC' 'Mount Pleasant, VIC' 'Maroochydore, QLD'\n",
      " 'Mooloolaba, QLD' 'Currimundi, QLD' 'Baringa, QLD' 'Caloundra West, QLD'\n",
      " 'Buderim, QLD' 'Chermside South, QLD' 'Rosemount, QLD' 'Kunda Park, QLD'\n",
      " 'Noosaville, QLD' 'Ararat, VIC' 'Colac West, VIC' 'Nambour, QLD'\n",
      " 'Horsham, VIC' 'Gympie, QLD' 'Warrenheip, AU-VIC' 'Caboolture, QLD'\n",
      " 'Brendale, QLD' 'Corio, VIC' 'Ningi, QLD' 'Alexandra Headland, QLD'\n",
      " 'Stafford, QLD' 'Sippy Downs, QLD' 'Launceston, TAS' 'Warrnambool, VIC'\n",
      " 'Camdale, TAS' 'Devonport, TAS' 'South Burnie, TAS' 'LOXTON, SA'\n",
      " 'Pialba, QLD' 'Bundaberg West, QLD' 'Kensington, QLD' 'Mount Gambier, SA'\n",
      " 'Bundaberg, QLD' 'North Hobart, TAS' 'Biloela, QLD' 'Hobart, TAS'\n",
      " 'Derwent Park, TAS' 'Glenorchy, TAS' 'Murray Bridge, SA' 'Moonah, TAS'\n",
      " 'New Town, TAS' 'Salisbury Park, SA' 'Blair Athol, SA'\n",
      " 'Gilles Plains, SA' 'Hillcrest, SA' 'Prospect, SA' 'Newton, SA'\n",
      " 'Totness, SA' 'Salisbury, SA' 'Gawler South, SA' 'Ingle Farm, SA'\n",
      " 'Clare, SA' 'Nuriootpa, SA' 'Para Hills West, SA' 'Gladstone, QLD'\n",
      " 'Klemzig, SA' 'Windsor Gardens, SA' 'Elizabeth, SA' 'Hawthorn, SA'\n",
      " 'Gepps Cross, SA' 'Hampstead Gardens, SA' 'Nailsworth, SA'\n",
      " 'Valley View, SA' 'Fullarton, SA' 'Medindie, SA' 'Pooraka, SA'\n",
      " 'West Gladstone, QLD' 'Gulfview Heights, SA' 'Mount Barker, SA'\n",
      " 'Wayville, SA' 'Mile End, SA' 'Brisbane, QLD' 'Saint Marys, SA'\n",
      " 'Plympton Park, SA' 'Mile End South, SA' 'Thebarton, SA'\n",
      " 'West Croydon, SA' 'Somerton Park, SA' 'Adelaide, SA' 'Edwardstown, SA'\n",
      " 'Christies Beach, SA' 'Emerald, QLD' 'Glenelg, SA' 'Darlington, SA'\n",
      " 'Hindmarsh, SA' 'North Rockhampton, QLD' 'Chinchilla, QLD'\n",
      " 'Albert Park, SA' 'Reynella, SA' 'Beverley, SA' 'Plympton, SA'\n",
      " 'Victor Harbor, SA' 'Lonsdale, SA' 'Torrensville, SA' 'Rosewater, SA'\n",
      " 'Coolum Beach, QLD' 'Woodville, SA' 'Moffat Beach, QLD'\n",
      " 'Port Augusta, SA' 'Mackay, QLD' 'West End, QLD' 'Garbutt, QLD'\n",
      " 'Mount Louisa, QLD' 'Youngtown, TAS' 'Hermit Park, QLD' 'Loxton, SA'\n",
      " 'Westcourt, QLD' 'Cairns City, QLD' 'Bungalow, QLD'\n",
      " 'Parramatta Park, QLD' 'Cairns, QLD' 'Earlville, QLD' 'Mildura, VIC'\n",
      " 'Pinelands, NT' 'Berrimah, NT' 'Winnellie, NT' 'Stuart Park, NT'\n",
      " 'Darwin, NT' 'Collie, WA' 'Beaconsfield, WA' 'Kelmscott, WA'\n",
      " 'Victoria Park, WA' 'Bellevue, WA' 'Hamilton Hill, WA' 'Palmyra, WA'\n",
      " 'Dianella, WA' 'Saint James, WA' 'Morley, WA' 'Como, WA' 'Maddington, WA'\n",
      " 'Invermay, TAS' 'Attadale, WA' 'Bridgewater, SA' 'East Bunbury, WA'\n",
      " 'Bundaberg North, QLD' 'Harvey, WA' 'Kenwick, WA' 'Seaford, SA'\n",
      " 'Norwood, SA' 'Bowden, SA' 'Park Holme, SA' 'Allenstown, QLD'\n",
      " 'Medindie Gardens, SA' 'West Lakes, SA' 'Hyde Park, SA' 'St Marys, SA'\n",
      " 'Goodwood, SA' 'Parap, NT' 'West Perth, WA' 'Bayswater, WA'\n",
      " 'Maylands, WA' 'Midland, WA' 'Burswood, WA' 'Gosnells, WA'\n",
      " 'South Bunbury, WA' 'Hyde Park, QLD' 'Melville, WA' 'Wagin, WA'\n",
      " 'Canning Vale, WA' 'Wongan Hills, WA' 'Jandakot, WA'\n",
      " 'East Victoria Park, WA' 'Northbridge, WA' 'Perth, WA' 'Edgewater, WA'\n",
      " 'KINGSLEY, WA' 'Craigie, WA' 'Busselton, WA' 'Geraldton, WA'\n",
      " 'Beresford, WA' 'Wonthella, WA' 'Webberton, WA' 'Kings Park, NSW'\n",
      " 'Peakhurst, NSW' 'Clyde, NSW' 'Ermington, NSW' 'Greystanes, NSW'\n",
      " 'Wellington, NSW' 'West Tamworth, NSW' 'Wagga Wagga, NSW' 'Inverell, NSW'\n",
      " 'Casino, NSW' 'Roxburgh Park, VIC' 'Beaudesert, QLD'\n",
      " 'East Toowoomba, QLD']\n",
      "\n",
      "\n",
      "Unique values for column 'CylindersinEngine':\n",
      "['4 cyl' '8 cyl' '-' '3 cyl' '6 cyl' '5 cyl' '12 cyl' '0 L' '2 cyl' nan\n",
      " '10 cyl' '2 L']\n",
      "\n",
      "\n",
      "Unique values for column 'BodyType':\n",
      "['SUV' 'Hatchback' 'Coupe' 'Commercial' nan 'Wagon' 'Ute / Tray' 'Sedan'\n",
      " 'People Mover' 'Convertible' 'Other']\n",
      "\n",
      "\n",
      "Unique values for column 'Doors':\n",
      "[' 4 Doors' ' 5 Doors' ' 2 Doors' nan ' 3 Doors' ' 7 Seats' ' 5 Seats'\n",
      " ' 4 Seats' ' 8 Seats' ' 2 Seats' ' 9 Seats' ' 6 Seats' ' 3 Seats'\n",
      " ' 12 Seats']\n",
      "\n",
      "\n",
      "Unique values for column 'Seats':\n",
      "[' 7 Seats' ' 5 Seats' ' 4 Seats' nan ' 2 Seats' ' 3 Seats' ' 14 Seats'\n",
      " ' 8 Seats' ' 6 Seats' ' 9 Seats' ' 11 Seats' ' 12 Seats' ' 22 Seats'\n",
      " ' 15 Seats']\n",
      "\n",
      "\n",
      "Unique values for column 'Price':\n",
      "['51990' '19990' '108988' ... '21989' '36770' '35280']\n",
      "\n",
      "\n"
     ]
    }
   ],
   "execution_count": 4
  },
  {
   "cell_type": "markdown",
   "source": [
    "As we can see, there are possible '-' in column **Transmission**, **FuelType**, and 'POA' in column **Price**. They are not *NaN* but are meaningless and should be converted to *NaN*.\n",
    "Meanwhile, one of the value in **Location** is *Warrenheip, AU-VIC*.\n",
    "As the format is < *Suburb, State* >, we are going to consolidate *AU-VIC* and *VIC* to *VIC*."
   ],
   "metadata": {
    "id": "X7SFpJyR6cgO"
   }
  },
  {
   "cell_type": "code",
   "source": [
    "data.replace(['-','POA'],np.nan,inplace=True) \n",
    "\n",
    "data['Location'] = data['Location'].str.replace('AU-VIC', 'VIC')"
   ],
   "metadata": {
    "id": "-zm8HwPN6ZzK",
    "executionInfo": {
     "status": "ok",
     "timestamp": 1729470898918,
     "user_tz": -660,
     "elapsed": 332,
     "user": {
      "displayName": "Yuzhe Tian",
      "userId": "05567834028890049819"
     }
    },
    "ExecuteTime": {
     "end_time": "2024-11-02T11:12:02.875136Z",
     "start_time": "2024-11-02T11:12:02.861309Z"
    }
   },
   "outputs": [],
   "execution_count": 5
  },
  {
   "cell_type": "markdown",
   "source": [
    "Meanwhile, some of the columns are containing strings but could be presented by numerical data.\n",
    "\n",
    "For example, the unit for **FuelConsumption** is *L/100km*, thus we could only keep the numerical data within the string.\n",
    "\n",
    "The column **Location** are too specific and won't help with the project. We keep the States only.\n",
    "\n",
    "The column **Engine** are partially overlapping with **CylindersinEngine**, we keep the displacement in new column **Displacement** and discard the **Engine**."
   ],
   "metadata": {
    "id": "E2vAYyOy8_oE"
   }
  },
  {
   "cell_type": "code",
   "source": [
    "# perform string manipulation then convert to numeric value\n",
    "data['FuelConsumption'] = data['FuelConsumption'].str.split('/').str[0].str.split().str[0]\n",
    "data['FuelConsumption'] = pd.to_numeric(data['FuelConsumption'], errors='coerce') # we use 'coerce' to keep NaN\n",
    "\n",
    "# perform string manipulation\n",
    "data['Location'] = data['Location'].str.split(',').str[1].str.strip()\n",
    "\n",
    "# perform string manipulation then convert to numeric value\n",
    "data['Displacement'] = data['Engine'].str.split(',').str[1].str.split().str[0]\n",
    "data['Displacement'] = pd.to_numeric(data['Displacement'], errors='coerce')\n",
    "data.drop(columns=['Engine'], inplace=True)\n",
    "\n",
    "# perform string manipulation then convert to numeric value\n",
    "data['CylindersinEngine'] = data['CylindersinEngine'].str.split().str[0]\n",
    "data['CylindersinEngine'] = pd.to_numeric(data['CylindersinEngine'], errors='coerce')\n",
    "\n",
    "# perform string manipulation then convert to numeric value\n",
    "data['Doors'] = data['Doors'].str.split().str[0]\n",
    "data['Doors'] = pd.to_numeric(data['Doors'], errors='coerce')\n",
    "\n",
    "# perform string manipulation then convert to numeric value\n",
    "data['Seats'] = data['Seats'].str.split().str[0]\n",
    "data['Seats'] = pd.to_numeric(data['Seats'], errors='coerce')\n",
    "\n",
    "# convert to numeric value\n",
    "data['Price'] = pd.to_numeric(data['Price'], errors='coerce')\n",
    "\n",
    "# convert to numeric value\n",
    "data['Kilometres'] = pd.to_numeric(data['Kilometres'], errors='coerce')\n"
   ],
   "metadata": {
    "id": "KKvDxKZtemGw",
    "executionInfo": {
     "status": "ok",
     "timestamp": 1729470900016,
     "user_tz": -660,
     "elapsed": 542,
     "user": {
      "displayName": "Yuzhe Tian",
      "userId": "05567834028890049819"
     }
    },
    "ExecuteTime": {
     "end_time": "2024-11-02T11:12:03.036363Z",
     "start_time": "2024-11-02T11:12:02.921103Z"
    }
   },
   "outputs": [],
   "execution_count": 6
  },
  {
   "cell_type": "markdown",
   "source": [
    "We check the shape and the percentage of missing data."
   ],
   "metadata": {
    "id": "-FE3VvwS-8DN"
   }
  },
  {
   "cell_type": "code",
   "source": [
    "print(\"Data shape:\", data.shape)\n",
    "print(\"Percentage of data missing from each column\")\n",
    "data.isnull().sum()/len(data)*100"
   ],
   "metadata": {
    "colab": {
     "base_uri": "https://localhost:8080/",
     "height": 590
    },
    "id": "gGlsOLJ6eRrs",
    "executionInfo": {
     "status": "ok",
     "timestamp": 1729470901609,
     "user_tz": -660,
     "elapsed": 364,
     "user": {
      "displayName": "Yuzhe Tian",
      "userId": "05567834028890049819"
     }
    },
    "outputId": "f90d2362-8202-4103-b2f5-372c9d927da5",
    "ExecuteTime": {
     "end_time": "2024-11-02T11:12:03.044702Z",
     "start_time": "2024-11-02T11:12:03.039681Z"
    }
   },
   "outputs": [
    {
     "name": "stdout",
     "output_type": "stream",
     "text": [
      "Data shape: (16734, 15)\n",
      "Percentage of data missing from each column\n"
     ]
    },
    {
     "data": {
      "text/plain": [
       "Brand                 0.005976\n",
       "Year                  0.005976\n",
       "UsedOrNew             0.005976\n",
       "Transmission          1.505916\n",
       "DriveType             0.005976\n",
       "FuelType              3.812597\n",
       "FuelConsumption      10.147006\n",
       "Kilometres            3.537708\n",
       "Location              2.689136\n",
       "CylindersinEngine    10.009561\n",
       "BodyType              1.685192\n",
       "Doors                 9.585275\n",
       "Seats                10.188837\n",
       "Price                 0.316720\n",
       "Displacement         10.654954\n",
       "dtype: float64"
      ]
     },
     "execution_count": 7,
     "metadata": {},
     "output_type": "execute_result"
    }
   ],
   "execution_count": 7
  },
  {
   "metadata": {},
   "cell_type": "markdown",
   "source": "We would like to drop the null values. However, column **FuelConsumption**, **CylindersinEngine**, **Doors**, **Seats** and **Displacement** have more than 5% data missing, so we cannot drop them since it will lose a lot of information from the data, we fill them with the average value of that column respectively."
  },
  {
   "cell_type": "code",
   "source": [
    "#data.dropna(inplace=True)\n",
    "#print(\"Data shape after processing the missing value:\", data.shape)"
   ],
   "metadata": {
    "colab": {
     "base_uri": "https://localhost:8080/"
    },
    "id": "BoRg_AVeD8fy",
    "executionInfo": {
     "status": "ok",
     "timestamp": 1729470903223,
     "user_tz": -660,
     "elapsed": 344,
     "user": {
      "displayName": "Yuzhe Tian",
      "userId": "05567834028890049819"
     }
    },
    "outputId": "3d4ab0f6-4090-48ac-c623-706e3297b003",
    "ExecuteTime": {
     "end_time": "2024-11-02T11:12:03.086343Z",
     "start_time": "2024-11-02T11:12:03.084478Z"
    }
   },
   "outputs": [],
   "execution_count": 8
  },
  {
   "metadata": {},
   "cell_type": "markdown",
   "source": "# Issue 1: Improper Handling of Missing Values with dropna()"
  },
  {
   "metadata": {},
   "cell_type": "markdown",
   "source": [
    "## Identification:\n",
    "The old code attempted to entirely drop rows with missing data, leading to significant data loss in columns with over 5% missing data.The notebook uses data.dropna() to handle missing values, which removes all rows containing any missing data. This can be problematic when significant portions of columns contain missing values, leading to potential data loss and a biased dataset."
   ]
  },
  {
   "metadata": {},
   "cell_type": "markdown",
   "source": [
    "## Justification\n",
    "Dropping rows with missing values can lead to the loss of valuable information, especially if the columns contain important predictive features. For columns with more than a small percentage of missing values, it’s better to use imputation (mean, median, mode) rather than simply discarding data. For example, replacing missing values in numerical columns with the mean or median retains the dataset’s structure and mitigates the risk of bias."
   ]
  },
  {
   "metadata": {},
   "cell_type": "markdown",
   "source": [
    "## Correction\n",
    "The corrected approach fills missing values in critical columns with the mean to retain as much data as possible and only drops rows with remaining missing values after imputation. This method balances between addressing missing values and maintaining a comprehensive dataset for analysis."
   ]
  },
  {
   "metadata": {
    "ExecuteTime": {
     "end_time": "2024-11-02T11:12:03.127138Z",
     "start_time": "2024-11-02T11:12:03.119729Z"
    }
   },
   "cell_type": "code",
   "source": [
    "# Fill missing values in columns that have more than 5% missing values with the column mean\n",
    "data['FuelConsumption'].fillna(data['FuelConsumption'].mean(), inplace=True)\n",
    "data['CylindersinEngine'].fillna(data['CylindersinEngine'].mean(), inplace=True)\n",
    "data['Doors'].fillna(data['Doors'].mean(), inplace=True)\n",
    "data['Seats'].fillna(data['Seats'].mean(), inplace=True)\n",
    "data['Displacement'].fillna(data['Displacement'].mean(), inplace=True)\n",
    "\n",
    "# Drop any remaining rows with missing values (if any)\n",
    "data.dropna(inplace=True)\n",
    "\n",
    "# Verify the shape after dropping rows with missing values\n",
    "print(\"Data shape after processing the missing values:\", data.shape)"
   ],
   "outputs": [
    {
     "name": "stdout",
     "output_type": "stream",
     "text": [
      "Data shape after processing the missing values: (15306, 15)\n"
     ]
    }
   ],
   "execution_count": 9
  },
  {
   "cell_type": "markdown",
   "source": [
    "## Visualisation\n",
    "\n",
    "We would like to perform some visualisation. The following cells are rendering some figures for the analysis."
   ],
   "metadata": {
    "id": "u__f6PZ-D0ug"
   }
  },
  {
   "cell_type": "code",
   "source": [
    "plt.figure(figsize=(7,5))\n",
    "ax = sns.countplot(data=data, x='Location')\n",
    "for i in ax.containers:\n",
    "    ax.bar_label(i,)\n",
    "plt.title('Location of German car sales in the Australian market of year 2023')\n",
    "plt.show()"
   ],
   "metadata": {
    "colab": {
     "base_uri": "https://localhost:8080/",
     "height": 487
    },
    "id": "JZby4g_4gjxK",
    "executionInfo": {
     "status": "ok",
     "timestamp": 1729470908060,
     "user_tz": -660,
     "elapsed": 880,
     "user": {
      "displayName": "Yuzhe Tian",
      "userId": "05567834028890049819"
     }
    },
    "outputId": "ed0bf473-8e01-4d2d-9f51-766488f64547",
    "ExecuteTime": {
     "end_time": "2024-11-02T11:12:03.271764Z",
     "start_time": "2024-11-02T11:12:03.171546Z"
    }
   },
   "outputs": [
    {
     "data": {
      "text/plain": [
       "<Figure size 700x500 with 1 Axes>"
      ],
      "image/png": "[encoded data removed]"
     },
     "metadata": {},
     "output_type": "display_data"
    }
   ],
   "execution_count": 10
  },
  {
   "cell_type": "markdown",
   "source": [
    "We can see most of the cars were selling in NSW back in 2023, which aligns with the population distribution of Australia. [[Source]](https://www.worldatlas.com/articles/the-largest-states-and-territories-of-australia.html)"
   ],
   "metadata": {
    "id": "YL4ZGGm6jBF2"
   }
  },
  {
   "cell_type": "code",
   "source": [
    "plt.figure(figsize=(10,8))\n",
    "sns.regplot(data=data, x='Year', y='Price', scatter_kws={'s': 10}, line_kws={\"color\": \"red\"})\n",
    "plt.title('Scatter Plot with Trend Line showing the relationship between Price and Year of manufacture')\n",
    "plt.show()"
   ],
   "metadata": {
    "colab": {
     "base_uri": "https://localhost:8080/",
     "height": 718
    },
    "id": "_6_wjxTElHRq",
    "executionInfo": {
     "status": "ok",
     "timestamp": 1729470911564,
     "user_tz": -660,
     "elapsed": 1774,
     "user": {
      "displayName": "Yuzhe Tian",
      "userId": "05567834028890049819"
     }
    },
    "outputId": "afb2ca29-970d-4b65-8c32-fcab1a75ba87",
    "ExecuteTime": {
     "end_time": "2024-11-02T11:12:03.818572Z",
     "start_time": "2024-11-02T11:12:03.279873Z"
    }
   },
   "outputs": [
    {
     "data": {
      "text/plain": [
       "<Figure size 1000x800 with 1 Axes>"
      ],
      "image/png": "[encoded data removed]"
     },
     "metadata": {},
     "output_type": "display_data"
    }
   ],
   "execution_count": 11
  },
  {
   "cell_type": "markdown",
   "source": [
    "We can see the trends of the rising price accompanied by the newer  manufacturing year.\n",
    "\n",
    "This also aligns with our common sense, *i.e.* the newer the car the higher the price."
   ],
   "metadata": {
    "id": "ilEvCl8mkJoM"
   }
  },
  {
   "cell_type": "markdown",
   "source": [
    "## Encoding\n",
    "\n",
    "We encode the categorical features to integers with OrdinalEncoder and drop the original column for simplicity."
   ],
   "metadata": {
    "id": "vOK8e_SFPhYb"
   }
  },
  {
   "cell_type": "code",
   "source": [
    "#ord_enc = OrdinalEncoder(dtype=int)\n",
    "\n",
    "#data[\"BrandCode\"] = ord_enc.fit_transform(data[[\"Brand\"]])\n",
    "#data[\"UsedCode\"] = ord_enc.fit_transform(data[[\"UsedOrNew\"]])\n",
    "#data[\"TransmissionCode\"] = ord_enc.fit_transform(data[[\"Transmission\"]])\n",
    "#data[\"DriveTypeCode\"] = ord_enc.fit_transform(data[[\"DriveType\"]])\n",
    "#data[\"FuelTypeCode\"] = ord_enc.fit_transform(data[[\"FuelType\"]])\n",
    "#data[\"LocationCode\"] = ord_enc.fit_transform(data[[\"Location\"]])\n",
    "#data[\"BodyTypeCode\"] = ord_enc.fit_transform(data[[\"BodyType\"]])"
   ],
   "metadata": {
    "id": "-6uO44k7PgVK",
    "executionInfo": {
     "status": "ok",
     "timestamp": 1729470912353,
     "user_tz": -660,
     "elapsed": 338,
     "user": {
      "displayName": "Yuzhe Tian",
      "userId": "05567834028890049819"
     }
    },
    "ExecuteTime": {
     "end_time": "2024-11-02T11:12:03.833941Z",
     "start_time": "2024-11-02T11:12:03.831633Z"
    }
   },
   "outputs": [],
   "execution_count": 12
  },
  {
   "metadata": {
    "ExecuteTime": {
     "end_time": "2024-11-02T11:12:03.854567Z",
     "start_time": "2024-11-02T11:12:03.851996Z"
    }
   },
   "cell_type": "code",
   "source": [
    "# Drop the categorical columns\n",
    "#clean = data.drop(\n",
    "    #columns=['Brand', 'UsedOrNew', 'Transmission', 'DriveType',\n",
    "            #'FuelType', 'Location', 'BodyType'])"
   ],
   "outputs": [],
   "execution_count": 13
  },
  {
   "metadata": {},
   "cell_type": "markdown",
   "source": "# Issue 2: Ordinal Encoding and Dropping of Categorical Columns"
  },
  {
   "metadata": {},
   "cell_type": "markdown",
   "source": [
    "## Identification\n",
    "The old code uses OrdinalEncoder for both ordered and unordered categorical columns, which is incorrect for columns like Brand, FuelType, and BodyType that do not have a natural order. This method is appropriate only for variables with inherent order, such as educational levels or ratings, not for nominal categories.\n"
   ]
  },
  {
   "metadata": {},
   "cell_type": "markdown",
   "source": [
    "## Justification\n",
    "Ordinal encoding assigns a rank to categorical data, which can mislead the model if the categories do not have an ordinal relationship. For instance, using ordinal encoding for Brand implies a ranking among them, which can introduce unnecessary bias and reduce the model’s interpretability and accuracy. Nominal data should use one-hot encoding to avoid implying false hierarchy."
   ]
  },
  {
   "metadata": {},
   "cell_type": "markdown",
   "source": [
    "## Correction\n",
    "The corrected approach involves using OneHotEncoder for unordered columns and StandardScaler for numeric columns inside a ColumnTransformer. After applying these transformations, the resulting dataset should be correctly handled without further manual interventions. OrdinalEncoder should be applied only to ordered categories if any exist."
   ]
  },
  {
   "metadata": {
    "ExecuteTime": {
     "end_time": "2024-11-02T11:12:03.887511Z",
     "start_time": "2024-11-02T11:12:03.863508Z"
    }
   },
   "cell_type": "code",
   "source": [
    "from sklearn.preprocessing import OneHotEncoder, StandardScaler\n",
    "from sklearn.compose import ColumnTransformer\n",
    "\n",
    "# Preprocessor with OneHotEncoder and StandardScaler \n",
    "pre_pro = ColumnTransformer(\n",
    "    transformers=[\n",
    "        ('num', StandardScaler(), data.select_dtypes(include=['float64', 'int64']).columns),  \n",
    "        ('cat', OneHotEncoder(handle_unknown='ignore'), data.select_dtypes(include=['object']).columns)\n",
    "    ]\n",
    ")\n",
    "\n",
    "# Applying the preprocessor to the dataset\n",
    "processed_data = pre_pro.fit_transform(data)"
   ],
   "outputs": [],
   "execution_count": 14
  },
  {
   "metadata": {
    "ExecuteTime": {
     "end_time": "2024-11-02T11:12:03.902782Z",
     "start_time": "2024-11-02T11:12:03.899933Z"
    }
   },
   "cell_type": "code",
   "source": [
    "# Drop the categorical columns\n",
    "clean = data.drop(\n",
    "    columns=['Brand', 'UsedOrNew', 'Transmission', 'DriveType',\n",
    "             'FuelType', 'Location', 'BodyType'])"
   ],
   "outputs": [],
   "execution_count": 15
  },
  {
   "metadata": {},
   "cell_type": "markdown",
   "source": "Now this ```clean``` will be used for following tasks. We check the shape and statistic info."
  },
  {
   "cell_type": "code",
   "source": [
    "print(clean.shape)\n",
    "data.describe(include=\"all\")"
   ],
   "metadata": {
    "colab": {
     "base_uri": "https://localhost:8080/",
     "height": 338
    },
    "id": "cZtXyEQFl7pl",
    "executionInfo": {
     "status": "ok",
     "timestamp": 1729470914665,
     "user_tz": -660,
     "elapsed": 677,
     "user": {
      "displayName": "Yuzhe Tian",
      "userId": "05567834028890049819"
     }
    },
    "outputId": "37911131-8554-4f5a-a2af-fceba4b30015",
    "ExecuteTime": {
     "end_time": "2024-11-02T11:12:03.935184Z",
     "start_time": "2024-11-02T11:12:03.912519Z"
    }
   },
   "outputs": [
    {
     "name": "stdout",
     "output_type": "stream",
     "text": [
      "(15306, 8)\n"
     ]
    },
    {
     "data": {
      "text/plain": [
       "         Brand          Year UsedOrNew Transmission DriveType  FuelType  \\\n",
       "count    15306  15306.000000     15306        15306     15306     15306   \n",
       "unique      66           NaN         3            2         5         8   \n",
       "top     Toyota           NaN      USED    Automatic     Front  Unleaded   \n",
       "freq      2522           NaN     14354        13510      6606      6726   \n",
       "mean       NaN   2016.025676       NaN          NaN       NaN       NaN   \n",
       "std        NaN      4.993409       NaN          NaN       NaN       NaN   \n",
       "min        NaN   1959.000000       NaN          NaN       NaN       NaN   \n",
       "25%        NaN   2013.000000       NaN          NaN       NaN       NaN   \n",
       "50%        NaN   2017.000000       NaN          NaN       NaN       NaN   \n",
       "75%        NaN   2020.000000       NaN          NaN       NaN       NaN   \n",
       "max        NaN   2023.000000       NaN          NaN       NaN       NaN   \n",
       "\n",
       "        FuelConsumption     Kilometres Location  CylindersinEngine BodyType  \\\n",
       "count      15306.000000   15306.000000    15306       15306.000000    15306   \n",
       "unique              NaN            NaN        8                NaN       10   \n",
       "top                 NaN            NaN      NSW                NaN      SUV   \n",
       "freq                NaN            NaN     6017                NaN     6514   \n",
       "mean           7.741051  101290.290017      NaN           4.428613      NaN   \n",
       "std            2.137879   78140.256535      NaN           1.066943      NaN   \n",
       "min            0.000000       1.000000      NaN           0.000000      NaN   \n",
       "25%            6.700000   42852.250000      NaN           4.000000      NaN   \n",
       "50%            7.663661   86690.500000      NaN           4.000000      NaN   \n",
       "75%            8.700000  147681.750000      NaN           4.423601      NaN   \n",
       "max           27.000000  533849.000000      NaN          12.000000      NaN   \n",
       "\n",
       "               Doors         Seats         Price  Displacement  \n",
       "count   15306.000000  15306.000000  1.530600e+04  15306.000000  \n",
       "unique           NaN           NaN           NaN           NaN  \n",
       "top              NaN           NaN           NaN           NaN  \n",
       "freq             NaN           NaN           NaN           NaN  \n",
       "mean        4.025740      5.121046  3.507147e+04      2.416477  \n",
       "std         0.670905      1.055260  3.185882e+04      0.836184  \n",
       "min         2.000000      2.000000  8.800000e+01      0.700000  \n",
       "25%         4.000000      5.000000  1.895000e+04      2.000000  \n",
       "50%         4.000000      5.000000  2.895000e+04      2.400000  \n",
       "75%         4.000000      5.000000  4.199900e+04      2.800000  \n",
       "max        12.000000     22.000000  1.500000e+06      7.300000  "
      ],
      "text/html": [
       "<div>\n",
       "<style scoped>\n",
       "    .dataframe tbody tr th:only-of-type {\n",
       "        vertical-align: middle;\n",
       "    }\n",
       "\n",
       "    .dataframe tbody tr th {\n",
       "        vertical-align: top;\n",
       "    }\n",
       "\n",
       "    .dataframe thead th {\n",
       "        text-align: right;\n",
       "    }\n",
       "</style>\n",
       "<table border=\"1\" class=\"dataframe\">\n",
       "  <thead>\n",
       "    <tr style=\"text-align: right;\">\n",
       "      <th></th>\n",
       "      <th>Brand</th>\n",
       "      <th>Year</th>\n",
       "      <th>UsedOrNew</th>\n",
       "      <th>Transmission</th>\n",
       "      <th>DriveType</th>\n",
       "      <th>FuelType</th>\n",
       "      <th>FuelConsumption</th>\n",
       "      <th>Kilometres</th>\n",
       "      <th>Location</th>\n",
       "      <th>CylindersinEngine</th>\n",
       "      <th>BodyType</th>\n",
       "      <th>Doors</th>\n",
       "      <th>Seats</th>\n",
       "      <th>Price</th>\n",
       "      <th>Displacement</th>\n",
       "    </tr>\n",
       "  </thead>\n",
       "  <tbody>\n",
       "    <tr>\n",
       "      <th>count</th>\n",
       "      <td>15306</td>\n",
       "      <td>15306.000000</td>\n",
       "      <td>15306</td>\n",
       "      <td>15306</td>\n",
       "      <td>15306</td>\n",
       "      <td>15306</td>\n",
       "      <td>15306.000000</td>\n",
       "      <td>15306.000000</td>\n",
       "      <td>15306</td>\n",
       "      <td>15306.000000</td>\n",
       "      <td>15306</td>\n",
       "      <td>15306.000000</td>\n",
       "      <td>15306.000000</td>\n",
       "      <td>1.530600e+04</td>\n",
       "      <td>15306.000000</td>\n",
       "    </tr>\n",
       "    <tr>\n",
       "      <th>unique</th>\n",
       "      <td>66</td>\n",
       "      <td>NaN</td>\n",
       "      <td>3</td>\n",
       "      <td>2</td>\n",
       "      <td>5</td>\n",
       "      <td>8</td>\n",
       "      <td>NaN</td>\n",
       "      <td>NaN</td>\n",
       "      <td>8</td>\n",
       "      <td>NaN</td>\n",
       "      <td>10</td>\n",
       "      <td>NaN</td>\n",
       "      <td>NaN</td>\n",
       "      <td>NaN</td>\n",
       "      <td>NaN</td>\n",
       "    </tr>\n",
       "    <tr>\n",
       "      <th>top</th>\n",
       "      <td>Toyota</td>\n",
       "      <td>NaN</td>\n",
       "      <td>USED</td>\n",
       "      <td>Automatic</td>\n",
       "      <td>Front</td>\n",
       "      <td>Unleaded</td>\n",
       "      <td>NaN</td>\n",
       "      <td>NaN</td>\n",
       "      <td>NSW</td>\n",
       "      <td>NaN</td>\n",
       "      <td>SUV</td>\n",
       "      <td>NaN</td>\n",
       "      <td>NaN</td>\n",
       "      <td>NaN</td>\n",
       "      <td>NaN</td>\n",
       "    </tr>\n",
       "    <tr>\n",
       "      <th>freq</th>\n",
       "      <td>2522</td>\n",
       "      <td>NaN</td>\n",
       "      <td>14354</td>\n",
       "      <td>13510</td>\n",
       "      <td>6606</td>\n",
       "      <td>6726</td>\n",
       "      <td>NaN</td>\n",
       "      <td>NaN</td>\n",
       "      <td>6017</td>\n",
       "      <td>NaN</td>\n",
       "      <td>6514</td>\n",
       "      <td>NaN</td>\n",
       "      <td>NaN</td>\n",
       "      <td>NaN</td>\n",
       "      <td>NaN</td>\n",
       "    </tr>\n",
       "    <tr>\n",
       "      <th>mean</th>\n",
       "      <td>NaN</td>\n",
       "      <td>2016.025676</td>\n",
       "      <td>NaN</td>\n",
       "      <td>NaN</td>\n",
       "      <td>NaN</td>\n",
       "      <td>NaN</td>\n",
       "      <td>7.741051</td>\n",
       "      <td>101290.290017</td>\n",
       "      <td>NaN</td>\n",
       "      <td>4.428613</td>\n",
       "      <td>NaN</td>\n",
       "      <td>4.025740</td>\n",
       "      <td>5.121046</td>\n",
       "      <td>3.507147e+04</td>\n",
       "      <td>2.416477</td>\n",
       "    </tr>\n",
       "    <tr>\n",
       "      <th>std</th>\n",
       "      <td>NaN</td>\n",
       "      <td>4.993409</td>\n",
       "      <td>NaN</td>\n",
       "      <td>NaN</td>\n",
       "      <td>NaN</td>\n",
       "      <td>NaN</td>\n",
       "      <td>2.137879</td>\n",
       "      <td>78140.256535</td>\n",
       "      <td>NaN</td>\n",
       "      <td>1.066943</td>\n",
       "      <td>NaN</td>\n",
       "      <td>0.670905</td>\n",
       "      <td>1.055260</td>\n",
       "      <td>3.185882e+04</td>\n",
       "      <td>0.836184</td>\n",
       "    </tr>\n",
       "    <tr>\n",
       "      <th>min</th>\n",
       "      <td>NaN</td>\n",
       "      <td>1959.000000</td>\n",
       "      <td>NaN</td>\n",
       "      <td>NaN</td>\n",
       "      <td>NaN</td>\n",
       "      <td>NaN</td>\n",
       "      <td>0.000000</td>\n",
       "      <td>1.000000</td>\n",
       "      <td>NaN</td>\n",
       "      <td>0.000000</td>\n",
       "      <td>NaN</td>\n",
       "      <td>2.000000</td>\n",
       "      <td>2.000000</td>\n",
       "      <td>8.800000e+01</td>\n",
       "      <td>0.700000</td>\n",
       "    </tr>\n",
       "    <tr>\n",
       "      <th>25%</th>\n",
       "      <td>NaN</td>\n",
       "      <td>2013.000000</td>\n",
       "      <td>NaN</td>\n",
       "      <td>NaN</td>\n",
       "      <td>NaN</td>\n",
       "      <td>NaN</td>\n",
       "      <td>6.700000</td>\n",
       "      <td>42852.250000</td>\n",
       "      <td>NaN</td>\n",
       "      <td>4.000000</td>\n",
       "      <td>NaN</td>\n",
       "      <td>4.000000</td>\n",
       "      <td>5.000000</td>\n",
       "      <td>1.895000e+04</td>\n",
       "      <td>2.000000</td>\n",
       "    </tr>\n",
       "    <tr>\n",
       "      <th>50%</th>\n",
       "      <td>NaN</td>\n",
       "      <td>2017.000000</td>\n",
       "      <td>NaN</td>\n",
       "      <td>NaN</td>\n",
       "      <td>NaN</td>\n",
       "      <td>NaN</td>\n",
       "      <td>7.663661</td>\n",
       "      <td>86690.500000</td>\n",
       "      <td>NaN</td>\n",
       "      <td>4.000000</td>\n",
       "      <td>NaN</td>\n",
       "      <td>4.000000</td>\n",
       "      <td>5.000000</td>\n",
       "      <td>2.895000e+04</td>\n",
       "      <td>2.400000</td>\n",
       "    </tr>\n",
       "    <tr>\n",
       "      <th>75%</th>\n",
       "      <td>NaN</td>\n",
       "      <td>2020.000000</td>\n",
       "      <td>NaN</td>\n",
       "      <td>NaN</td>\n",
       "      <td>NaN</td>\n",
       "      <td>NaN</td>\n",
       "      <td>8.700000</td>\n",
       "      <td>147681.750000</td>\n",
       "      <td>NaN</td>\n",
       "      <td>4.423601</td>\n",
       "      <td>NaN</td>\n",
       "      <td>4.000000</td>\n",
       "      <td>5.000000</td>\n",
       "      <td>4.199900e+04</td>\n",
       "      <td>2.800000</td>\n",
       "    </tr>\n",
       "    <tr>\n",
       "      <th>max</th>\n",
       "      <td>NaN</td>\n",
       "      <td>2023.000000</td>\n",
       "      <td>NaN</td>\n",
       "      <td>NaN</td>\n",
       "      <td>NaN</td>\n",
       "      <td>NaN</td>\n",
       "      <td>27.000000</td>\n",
       "      <td>533849.000000</td>\n",
       "      <td>NaN</td>\n",
       "      <td>12.000000</td>\n",
       "      <td>NaN</td>\n",
       "      <td>12.000000</td>\n",
       "      <td>22.000000</td>\n",
       "      <td>1.500000e+06</td>\n",
       "      <td>7.300000</td>\n",
       "    </tr>\n",
       "  </tbody>\n",
       "</table>\n",
       "</div>"
      ]
     },
     "execution_count": 16,
     "metadata": {},
     "output_type": "execute_result"
    }
   ],
   "execution_count": 16
  },
  {
   "cell_type": "markdown",
   "metadata": {
    "id": "T95sIyawi42M"
   },
   "source": [
    "We also plot the feature distribution to observe the value distribution of each feature."
   ]
  },
  {
   "cell_type": "code",
   "source": [
    "clean.hist(bins=30 ,figsize=(16,12))\n",
    "plt.show()"
   ],
   "metadata": {
    "colab": {
     "base_uri": "https://localhost:8080/",
     "height": 1000
    },
    "id": "0o7z7Q96IMmH",
    "executionInfo": {
     "status": "ok",
     "timestamp": 1729470920921,
     "user_tz": -660,
     "elapsed": 4941,
     "user": {
      "displayName": "Yuzhe Tian",
      "userId": "05567834028890049819"
     }
    },
    "outputId": "76987a61-2e78-446a-dce0-fc8e4e1e948d",
    "ExecuteTime": {
     "end_time": "2024-11-02T11:12:04.423840Z",
     "start_time": "2024-11-02T11:12:03.971873Z"
    }
   },
   "outputs": [
    {
     "data": {
      "text/plain": [
       "<Figure size 1600x1200 with 9 Axes>"
      ],
      "image/png": "[encoded data removed]"
     },
     "metadata": {},
     "output_type": "display_data"
    }
   ],
   "execution_count": 17
  },
  {
   "cell_type": "markdown",
   "source": [
    "## Feature Selection & Data Splitting"
   ],
   "metadata": {
    "id": "pwBRJXFfqfwe"
   }
  },
  {
   "cell_type": "markdown",
   "source": [
    "We first study the correlation between the price and other features."
   ],
   "metadata": {
    "id": "Z_l0rP5oqtsQ"
   }
  },
  {
   "cell_type": "code",
   "source": [
    "plt.figure(figsize=(14, 10))\n",
    "sns.heatmap(clean.corr(), annot=True, fmt=\".2f\", cmap='coolwarm', linewidths=0.5)\n",
    "plt.title('Correlation Heatmap of Numeric Features')\n",
    "plt.xticks(rotation=45)\n",
    "plt.yticks(rotation=45)\n",
    "plt.show()"
   ],
   "metadata": {
    "colab": {
     "base_uri": "https://localhost:8080/",
     "height": 937
    },
    "id": "pwBqmtmUFph5",
    "executionInfo": {
     "status": "ok",
     "timestamp": 1729470923111,
     "user_tz": -660,
     "elapsed": 2194,
     "user": {
      "displayName": "Yuzhe Tian",
      "userId": "05567834028890049819"
     }
    },
    "outputId": "d2e0b246-6393-4d1c-9dd9-b178cf645c72",
    "ExecuteTime": {
     "end_time": "2024-11-02T11:12:04.579759Z",
     "start_time": "2024-11-02T11:12:04.442536Z"
    }
   },
   "outputs": [
    {
     "data": {
      "text/plain": [
       "<Figure size 1400x1000 with 2 Axes>"
      ],
      "image/png": "[encoded data removed]"
     },
     "metadata": {},
     "output_type": "display_data"
    }
   ],
   "execution_count": 18
  },
  {
   "cell_type": "markdown",
   "source": [
    "Then we keep the 5-top most correlated features and split the dataset. We want the training set the size of 80% of full dataset."
   ],
   "metadata": {
    "id": "ouVHj1DJGBDk"
   }
  },
  {
   "cell_type": "code",
   "source": [
    "X = clean[['Kilometres','Year','Displacement','CylindersinEngine','FuelConsumption']]\n",
    "y = clean['Price']\n",
    "\n",
    "X_train, X_test, y_train, y_test = train_test_split(X, y, test_size=0.2, random_state=student_id)"
   ],
   "metadata": {
    "id": "yCwGQk7CGJHy",
    "executionInfo": {
     "status": "ok",
     "timestamp": 1729470945174,
     "user_tz": -660,
     "elapsed": 402,
     "user": {
      "displayName": "Yuzhe Tian",
      "userId": "05567834028890049819"
     }
    },
    "ExecuteTime": {
     "end_time": "2024-11-02T11:12:04.589790Z",
     "start_time": "2024-11-02T11:12:04.586152Z"
    }
   },
   "outputs": [],
   "execution_count": 19
  },
  {
   "cell_type": "markdown",
   "source": [
    "## Model Training & Evaluating\n",
    "\n",
    "We then train and evaluate several models."
   ],
   "metadata": {
    "id": "QkhFu_RpHUQF"
   }
  },
  {
   "cell_type": "markdown",
   "source": [
    "### Linear Regression (LR)\n",
    "\n",
    "We perform linear regression to check the performance.\n",
    "As overfitiing and underftiitng will both decrease the model performance, we would like to avoid them."
   ],
   "metadata": {
    "id": "Zm3uix2oHqId"
   }
  },
  {
   "cell_type": "code",
   "source": [
    "regressor = linear_model.LinearRegression()\n",
    "regressor.fit(X_train, y_train)"
   ],
   "metadata": {
    "id": "g5w5dMHbXkjc",
    "colab": {
     "base_uri": "https://localhost:8080/",
     "height": 80
    },
    "executionInfo": {
     "status": "ok",
     "timestamp": 1729470946996,
     "user_tz": -660,
     "elapsed": 331,
     "user": {
      "displayName": "Yuzhe Tian",
      "userId": "05567834028890049819"
     }
    },
    "outputId": "220468dc-5aa6-4582-dadf-897089792810",
    "ExecuteTime": {
     "end_time": "2024-11-02T11:12:04.613236Z",
     "start_time": "2024-11-02T11:12:04.600599Z"
    }
   },
   "outputs": [
    {
     "data": {
      "text/plain": [
       "LinearRegression()"
      ],
      "text/html": [
       "<style>#sk-container-id-1 {\n",
       "  /* Definition of color scheme common for light and dark mode */\n",
       "  --sklearn-color-text: black;\n",
       "  --sklearn-color-line: gray;\n",
       "  /* Definition of color scheme for unfitted estimators */\n",
       "  --sklearn-color-unfitted-level-0: #fff5e6;\n",
       "  --sklearn-color-unfitted-level-1: #f6e4d2;\n",
       "  --sklearn-color-unfitted-level-2: #ffe0b3;\n",
       "  --sklearn-color-unfitted-level-3: chocolate;\n",
       "  /* Definition of color scheme for fitted estimators */\n",
       "  --sklearn-color-fitted-level-0: #f0f8ff;\n",
       "  --sklearn-color-fitted-level-1: #d4ebff;\n",
       "  --sklearn-color-fitted-level-2: #b3dbfd;\n",
       "  --sklearn-color-fitted-level-3: cornflowerblue;\n",
       "\n",
       "  /* Specific color for light theme */\n",
       "  --sklearn-color-text-on-default-background: var(--sg-text-color, var(--theme-code-foreground, var(--jp-content-font-color1, black)));\n",
       "  --sklearn-color-background: var(--sg-background-color, var(--theme-background, var(--jp-layout-color0, white)));\n",
       "  --sklearn-color-border-box: var(--sg-text-color, var(--theme-code-foreground, var(--jp-content-font-color1, black)));\n",
       "  --sklearn-color-icon: #696969;\n",
       "\n",
       "  @media (prefers-color-scheme: dark) {\n",
       "    /* Redefinition of color scheme for dark theme */\n",
       "    --sklearn-color-text-on-default-background: var(--sg-text-color, var(--theme-code-foreground, var(--jp-content-font-color1, white)));\n",
       "    --sklearn-color-background: var(--sg-background-color, var(--theme-background, var(--jp-layout-color0, #111)));\n",
       "    --sklearn-color-border-box: var(--sg-text-color, var(--theme-code-foreground, var(--jp-content-font-color1, white)));\n",
       "    --sklearn-color-icon: #878787;\n",
       "  }\n",
       "}\n",
       "\n",
       "#sk-container-id-1 {\n",
       "  color: var(--sklearn-color-text);\n",
       "}\n",
       "\n",
       "#sk-container-id-1 pre {\n",
       "  padding: 0;\n",
       "}\n",
       "\n",
       "#sk-container-id-1 input.sk-hidden--visually {\n",
       "  border: 0;\n",
       "  clip: rect(1px 1px 1px 1px);\n",
       "  clip: rect(1px, 1px, 1px, 1px);\n",
       "  height: 1px;\n",
       "  margin: -1px;\n",
       "  overflow: hidden;\n",
       "  padding: 0;\n",
       "  position: absolute;\n",
       "  width: 1px;\n",
       "}\n",
       "\n",
       "#sk-container-id-1 div.sk-dashed-wrapped {\n",
       "  border: 1px dashed var(--sklearn-color-line);\n",
       "  margin: 0 0.4em 0.5em 0.4em;\n",
       "  box-sizing: border-box;\n",
       "  padding-bottom: 0.4em;\n",
       "  background-color: var(--sklearn-color-background);\n",
       "}\n",
       "\n",
       "#sk-container-id-1 div.sk-container {\n",
       "  /* jupyter's `normalize.less` sets `[hidden] { display: none; }`\n",
       "     but bootstrap.min.css set `[hidden] { display: none !important; }`\n",
       "     so we also need the `!important` here to be able to override the\n",
       "     default hidden behavior on the sphinx rendered scikit-learn.org.\n",
       "     See: https://github.com/scikit-learn/scikit-learn/issues/21755 */\n",
       "  display: inline-block !important;\n",
       "  position: relative;\n",
       "}\n",
       "\n",
       "#sk-container-id-1 div.sk-text-repr-fallback {\n",
       "  display: none;\n",
       "}\n",
       "\n",
       "div.sk-parallel-item,\n",
       "div.sk-serial,\n",
       "div.sk-item {\n",
       "  /* draw centered vertical line to link estimators */\n",
       "  background-image: linear-gradient(var(--sklearn-color-text-on-default-background), var(--sklearn-color-text-on-default-background));\n",
       "  background-size: 2px 100%;\n",
       "  background-repeat: no-repeat;\n",
       "  background-position: center center;\n",
       "}\n",
       "\n",
       "/* Parallel-specific style estimator block */\n",
       "\n",
       "#sk-container-id-1 div.sk-parallel-item::after {\n",
       "  content: \"\";\n",
       "  width: 100%;\n",
       "  border-bottom: 2px solid var(--sklearn-color-text-on-default-background);\n",
       "  flex-grow: 1;\n",
       "}\n",
       "\n",
       "#sk-container-id-1 div.sk-parallel {\n",
       "  display: flex;\n",
       "  align-items: stretch;\n",
       "  justify-content: center;\n",
       "  background-color: var(--sklearn-color-background);\n",
       "  position: relative;\n",
       "}\n",
       "\n",
       "#sk-container-id-1 div.sk-parallel-item {\n",
       "  display: flex;\n",
       "  flex-direction: column;\n",
       "}\n",
       "\n",
       "#sk-container-id-1 div.sk-parallel-item:first-child::after {\n",
       "  align-self: flex-end;\n",
       "  width: 50%;\n",
       "}\n",
       "\n",
       "#sk-container-id-1 div.sk-parallel-item:last-child::after {\n",
       "  align-self: flex-start;\n",
       "  width: 50%;\n",
       "}\n",
       "\n",
       "#sk-container-id-1 div.sk-parallel-item:only-child::after {\n",
       "  width: 0;\n",
       "}\n",
       "\n",
       "/* Serial-specific style estimator block */\n",
       "\n",
       "#sk-container-id-1 div.sk-serial {\n",
       "  display: flex;\n",
       "  flex-direction: column;\n",
       "  align-items: center;\n",
       "  background-color: var(--sklearn-color-background);\n",
       "  padding-right: 1em;\n",
       "  padding-left: 1em;\n",
       "}\n",
       "\n",
       "\n",
       "/* Toggleable style: style used for estimator/Pipeline/ColumnTransformer box that is\n",
       "clickable and can be expanded/collapsed.\n",
       "- Pipeline and ColumnTransformer use this feature and define the default style\n",
       "- Estimators will overwrite some part of the style using the `sk-estimator` class\n",
       "*/\n",
       "\n",
       "/* Pipeline and ColumnTransformer style (default) */\n",
       "\n",
       "#sk-container-id-1 div.sk-toggleable {\n",
       "  /* Default theme specific background. It is overwritten whether we have a\n",
       "  specific estimator or a Pipeline/ColumnTransformer */\n",
       "  background-color: var(--sklearn-color-background);\n",
       "}\n",
       "\n",
       "/* Toggleable label */\n",
       "#sk-container-id-1 label.sk-toggleable__label {\n",
       "  cursor: pointer;\n",
       "  display: block;\n",
       "  width: 100%;\n",
       "  margin-bottom: 0;\n",
       "  padding: 0.5em;\n",
       "  box-sizing: border-box;\n",
       "  text-align: center;\n",
       "}\n",
       "\n",
       "#sk-container-id-1 label.sk-toggleable__label-arrow:before {\n",
       "  /* Arrow on the left of the label */\n",
       "  content: \"▸\";\n",
       "  float: left;\n",
       "  margin-right: 0.25em;\n",
       "  color: var(--sklearn-color-icon);\n",
       "}\n",
       "\n",
       "#sk-container-id-1 label.sk-toggleable__label-arrow:hover:before {\n",
       "  color: var(--sklearn-color-text);\n",
       "}\n",
       "\n",
       "/* Toggleable content - dropdown */\n",
       "\n",
       "#sk-container-id-1 div.sk-toggleable__content {\n",
       "  max-height: 0;\n",
       "  max-width: 0;\n",
       "  overflow: hidden;\n",
       "  text-align: left;\n",
       "  /* unfitted */\n",
       "  background-color: var(--sklearn-color-unfitted-level-0);\n",
       "}\n",
       "\n",
       "#sk-container-id-1 div.sk-toggleable__content.fitted {\n",
       "  /* fitted */\n",
       "  background-color: var(--sklearn-color-fitted-level-0);\n",
       "}\n",
       "\n",
       "#sk-container-id-1 div.sk-toggleable__content pre {\n",
       "  margin: 0.2em;\n",
       "  border-radius: 0.25em;\n",
       "  color: var(--sklearn-color-text);\n",
       "  /* unfitted */\n",
       "  background-color: var(--sklearn-color-unfitted-level-0);\n",
       "}\n",
       "\n",
       "#sk-container-id-1 div.sk-toggleable__content.fitted pre {\n",
       "  /* unfitted */\n",
       "  background-color: var(--sklearn-color-fitted-level-0);\n",
       "}\n",
       "\n",
       "#sk-container-id-1 input.sk-toggleable__control:checked~div.sk-toggleable__content {\n",
       "  /* Expand drop-down */\n",
       "  max-height: 200px;\n",
       "  max-width: 100%;\n",
       "  overflow: auto;\n",
       "}\n",
       "\n",
       "#sk-container-id-1 input.sk-toggleable__control:checked~label.sk-toggleable__label-arrow:before {\n",
       "  content: \"▾\";\n",
       "}\n",
       "\n",
       "/* Pipeline/ColumnTransformer-specific style */\n",
       "\n",
       "#sk-container-id-1 div.sk-label input.sk-toggleable__control:checked~label.sk-toggleable__label {\n",
       "  color: var(--sklearn-color-text);\n",
       "  background-color: var(--sklearn-color-unfitted-level-2);\n",
       "}\n",
       "\n",
       "#sk-container-id-1 div.sk-label.fitted input.sk-toggleable__control:checked~label.sk-toggleable__label {\n",
       "  background-color: var(--sklearn-color-fitted-level-2);\n",
       "}\n",
       "\n",
       "/* Estimator-specific style */\n",
       "\n",
       "/* Colorize estimator box */\n",
       "#sk-container-id-1 div.sk-estimator input.sk-toggleable__control:checked~label.sk-toggleable__label {\n",
       "  /* unfitted */\n",
       "  background-color: var(--sklearn-color-unfitted-level-2);\n",
       "}\n",
       "\n",
       "#sk-container-id-1 div.sk-estimator.fitted input.sk-toggleable__control:checked~label.sk-toggleable__label {\n",
       "  /* fitted */\n",
       "  background-color: var(--sklearn-color-fitted-level-2);\n",
       "}\n",
       "\n",
       "#sk-container-id-1 div.sk-label label.sk-toggleable__label,\n",
       "#sk-container-id-1 div.sk-label label {\n",
       "  /* The background is the default theme color */\n",
       "  color: var(--sklearn-color-text-on-default-background);\n",
       "}\n",
       "\n",
       "/* On hover, darken the color of the background */\n",
       "#sk-container-id-1 div.sk-label:hover label.sk-toggleable__label {\n",
       "  color: var(--sklearn-color-text);\n",
       "  background-color: var(--sklearn-color-unfitted-level-2);\n",
       "}\n",
       "\n",
       "/* Label box, darken color on hover, fitted */\n",
       "#sk-container-id-1 div.sk-label.fitted:hover label.sk-toggleable__label.fitted {\n",
       "  color: var(--sklearn-color-text);\n",
       "  background-color: var(--sklearn-color-fitted-level-2);\n",
       "}\n",
       "\n",
       "/* Estimator label */\n",
       "\n",
       "#sk-container-id-1 div.sk-label label {\n",
       "  font-family: monospace;\n",
       "  font-weight: bold;\n",
       "  display: inline-block;\n",
       "  line-height: 1.2em;\n",
       "}\n",
       "\n",
       "#sk-container-id-1 div.sk-label-container {\n",
       "  text-align: center;\n",
       "}\n",
       "\n",
       "/* Estimator-specific */\n",
       "#sk-container-id-1 div.sk-estimator {\n",
       "  font-family: monospace;\n",
       "  border: 1px dotted var(--sklearn-color-border-box);\n",
       "  border-radius: 0.25em;\n",
       "  box-sizing: border-box;\n",
       "  margin-bottom: 0.5em;\n",
       "  /* unfitted */\n",
       "  background-color: var(--sklearn-color-unfitted-level-0);\n",
       "}\n",
       "\n",
       "#sk-container-id-1 div.sk-estimator.fitted {\n",
       "  /* fitted */\n",
       "  background-color: var(--sklearn-color-fitted-level-0);\n",
       "}\n",
       "\n",
       "/* on hover */\n",
       "#sk-container-id-1 div.sk-estimator:hover {\n",
       "  /* unfitted */\n",
       "  background-color: var(--sklearn-color-unfitted-level-2);\n",
       "}\n",
       "\n",
       "#sk-container-id-1 div.sk-estimator.fitted:hover {\n",
       "  /* fitted */\n",
       "  background-color: var(--sklearn-color-fitted-level-2);\n",
       "}\n",
       "\n",
       "/* Specification for estimator info (e.g. \"i\" and \"?\") */\n",
       "\n",
       "/* Common style for \"i\" and \"?\" */\n",
       "\n",
       ".sk-estimator-doc-link,\n",
       "a:link.sk-estimator-doc-link,\n",
       "a:visited.sk-estimator-doc-link {\n",
       "  float: right;\n",
       "  font-size: smaller;\n",
       "  line-height: 1em;\n",
       "  font-family: monospace;\n",
       "  background-color: var(--sklearn-color-background);\n",
       "  border-radius: 1em;\n",
       "  height: 1em;\n",
       "  width: 1em;\n",
       "  text-decoration: none !important;\n",
       "  margin-left: 1ex;\n",
       "  /* unfitted */\n",
       "  border: var(--sklearn-color-unfitted-level-1) 1pt solid;\n",
       "  color: var(--sklearn-color-unfitted-level-1);\n",
       "}\n",
       "\n",
       ".sk-estimator-doc-link.fitted,\n",
       "a:link.sk-estimator-doc-link.fitted,\n",
       "a:visited.sk-estimator-doc-link.fitted {\n",
       "  /* fitted */\n",
       "  border: var(--sklearn-color-fitted-level-1) 1pt solid;\n",
       "  color: var(--sklearn-color-fitted-level-1);\n",
       "}\n",
       "\n",
       "/* On hover */\n",
       "div.sk-estimator:hover .sk-estimator-doc-link:hover,\n",
       ".sk-estimator-doc-link:hover,\n",
       "div.sk-label-container:hover .sk-estimator-doc-link:hover,\n",
       ".sk-estimator-doc-link:hover {\n",
       "  /* unfitted */\n",
       "  background-color: var(--sklearn-color-unfitted-level-3);\n",
       "  color: var(--sklearn-color-background);\n",
       "  text-decoration: none;\n",
       "}\n",
       "\n",
       "div.sk-estimator.fitted:hover .sk-estimator-doc-link.fitted:hover,\n",
       ".sk-estimator-doc-link.fitted:hover,\n",
       "div.sk-label-container:hover .sk-estimator-doc-link.fitted:hover,\n",
       ".sk-estimator-doc-link.fitted:hover {\n",
       "  /* fitted */\n",
       "  background-color: var(--sklearn-color-fitted-level-3);\n",
       "  color: var(--sklearn-color-background);\n",
       "  text-decoration: none;\n",
       "}\n",
       "\n",
       "/* Span, style for the box shown on hovering the info icon */\n",
       ".sk-estimator-doc-link span {\n",
       "  display: none;\n",
       "  z-index: 9999;\n",
       "  position: relative;\n",
       "  font-weight: normal;\n",
       "  right: .2ex;\n",
       "  padding: .5ex;\n",
       "  margin: .5ex;\n",
       "  width: min-content;\n",
       "  min-width: 20ex;\n",
       "  max-width: 50ex;\n",
       "  color: var(--sklearn-color-text);\n",
       "  box-shadow: 2pt 2pt 4pt #999;\n",
       "  /* unfitted */\n",
       "  background: var(--sklearn-color-unfitted-level-0);\n",
       "  border: .5pt solid var(--sklearn-color-unfitted-level-3);\n",
       "}\n",
       "\n",
       ".sk-estimator-doc-link.fitted span {\n",
       "  /* fitted */\n",
       "  background: var(--sklearn-color-fitted-level-0);\n",
       "  border: var(--sklearn-color-fitted-level-3);\n",
       "}\n",
       "\n",
       ".sk-estimator-doc-link:hover span {\n",
       "  display: block;\n",
       "}\n",
       "\n",
       "/* \"?\"-specific style due to the `<a>` HTML tag */\n",
       "\n",
       "#sk-container-id-1 a.estimator_doc_link {\n",
       "  float: right;\n",
       "  font-size: 1rem;\n",
       "  line-height: 1em;\n",
       "  font-family: monospace;\n",
       "  background-color: var(--sklearn-color-background);\n",
       "  border-radius: 1rem;\n",
       "  height: 1rem;\n",
       "  width: 1rem;\n",
       "  text-decoration: none;\n",
       "  /* unfitted */\n",
       "  color: var(--sklearn-color-unfitted-level-1);\n",
       "  border: var(--sklearn-color-unfitted-level-1) 1pt solid;\n",
       "}\n",
       "\n",
       "#sk-container-id-1 a.estimator_doc_link.fitted {\n",
       "  /* fitted */\n",
       "  border: var(--sklearn-color-fitted-level-1) 1pt solid;\n",
       "  color: var(--sklearn-color-fitted-level-1);\n",
       "}\n",
       "\n",
       "/* On hover */\n",
       "#sk-container-id-1 a.estimator_doc_link:hover {\n",
       "  /* unfitted */\n",
       "  background-color: var(--sklearn-color-unfitted-level-3);\n",
       "  color: var(--sklearn-color-background);\n",
       "  text-decoration: none;\n",
       "}\n",
       "\n",
       "#sk-container-id-1 a.estimator_doc_link.fitted:hover {\n",
       "  /* fitted */\n",
       "  background-color: var(--sklearn-color-fitted-level-3);\n",
       "}\n",
       "</style><div id=\"sk-container-id-1\" class=\"sk-top-container\"><div class=\"sk-text-repr-fallback\"><pre>LinearRegression()</pre><b>In a Jupyter environment, please rerun this cell to show the HTML representation or trust the notebook. <br />On GitHub, the HTML representation is unable to render, please try loading this page with nbviewer.org.</b></div><div class=\"sk-container\" hidden><div class=\"sk-item\"><div class=\"sk-estimator fitted sk-toggleable\"><input class=\"sk-toggleable__control sk-hidden--visually\" id=\"sk-estimator-id-1\" type=\"checkbox\" checked><label for=\"sk-estimator-id-1\" class=\"sk-toggleable__label fitted sk-toggleable__label-arrow fitted\">&nbsp;&nbsp;LinearRegression<a class=\"sk-estimator-doc-link fitted\" rel=\"noreferrer\" target=\"_blank\" href=\"https://scikit-learn.org/1.5/modules/generated/sklearn.linear_model.LinearRegression.html\">?<span>Documentation for LinearRegression</span></a><span class=\"sk-estimator-doc-link fitted\">i<span>Fitted</span></span></label><div class=\"sk-toggleable__content fitted\"><pre>LinearRegression()</pre></div> </div></div></div></div>"
      ]
     },
     "execution_count": 20,
     "metadata": {},
     "output_type": "execute_result"
    }
   ],
   "execution_count": 20
  },
  {
   "cell_type": "code",
   "source": [
    "# evaluate testing set\n",
    "y_pred = regressor.predict(X_test)\n",
    "mse = mean_squared_error(y_test, y_pred)\n",
    "rmse = np.sqrt(mse)\n",
    "r2 = r2_score(y_test, y_pred)\n",
    "print(\"The results for testing set with LR:\")\n",
    "print(\"MSE:\", mse)\n",
    "print(\"Root MSE:\", rmse)\n",
    "print(\"R^2:\", r2)"
   ],
   "metadata": {
    "colab": {
     "base_uri": "https://localhost:8080/"
    },
    "id": "IDVz_-KinmMY",
    "executionInfo": {
     "status": "ok",
     "timestamp": 1729470950495,
     "user_tz": -660,
     "elapsed": 327,
     "user": {
      "displayName": "Yuzhe Tian",
      "userId": "05567834028890049819"
     }
    },
    "outputId": "20858004-1edd-485d-9f55-5576c9d51d9b",
    "ExecuteTime": {
     "end_time": "2024-11-02T11:12:04.630436Z",
     "start_time": "2024-11-02T11:12:04.625097Z"
    }
   },
   "outputs": [
    {
     "name": "stdout",
     "output_type": "stream",
     "text": [
      "The results for testing set with LR:\n",
      "MSE: 558704467.5546534\n",
      "Root MSE: 23636.930163510096\n",
      "R^2: 0.40222173332307076\n"
     ]
    }
   ],
   "execution_count": 21
  },
  {
   "cell_type": "markdown",
   "source": [
    "### Decision Tree Regression (DTR)\n",
    "\n",
    "We perform decision tree regression to check the performance. We want to tune the model so that it's not overfitting nor underfitting."
   ],
   "metadata": {
    "id": "SQf9zen4IHL1"
   }
  },
  {
   "cell_type": "code",
   "source": [
    "#regressor = DecisionTreeRegressor(max_depth=2)\n",
    "#regressor.fit(X_train, y_train)"
   ],
   "metadata": {
    "colab": {
     "base_uri": "https://localhost:8080/",
     "height": 80
    },
    "id": "K-KpyD9UIMdQ",
    "executionInfo": {
     "status": "ok",
     "timestamp": 1729470981420,
     "user_tz": -660,
     "elapsed": 385,
     "user": {
      "displayName": "Yuzhe Tian",
      "userId": "05567834028890049819"
     }
    },
    "outputId": "bc625e84-fe33-4188-df42-9dfa854e1514",
    "ExecuteTime": {
     "end_time": "2024-11-02T11:12:04.653861Z",
     "start_time": "2024-11-02T11:12:04.651377Z"
    }
   },
   "outputs": [],
   "execution_count": 22
  },
  {
   "metadata": {
    "ExecuteTime": {
     "end_time": "2024-11-02T11:12:04.669120Z",
     "start_time": "2024-11-02T11:12:04.667213Z"
    }
   },
   "cell_type": "code",
   "source": [
    "# evaluate testing set\n",
    "#y_pred = regressor.predict(X_test)\n",
    "#mse = mean_squared_error(y_test, y_pred)\n",
    "#rmse = np.sqrt(mse)\n",
    "#r2 = r2_score(y_test, y_pred)\n",
    "#print(\"The results for testing set with DTR:\")\n",
    "#print(\"MSE:\", mse)\n",
    "#print(\"Root MSE:\", rmse)\n",
    "#print(\"R^2:\", r2)"
   ],
   "outputs": [],
   "execution_count": 23
  },
  {
   "metadata": {},
   "cell_type": "markdown",
   "source": "# Issue 3:  Lack of Cross-Validation and Hyperparameter Tuning in Decision Tree Regressor"
  },
  {
   "metadata": {},
   "cell_type": "markdown",
   "source": [
    "## Identification\n",
    "\n",
    "The old code applies a fixed max_depth=2 to the DecisionTreeRegressor model, limiting the tree depth without considering other potential tree depths that could improve model performance. The notebook trains the Decision Tree Regressor without cross-validation. Using a fixed max_depth=2 does not account for model complexity and might lead to overfitting or underfitting."
   ]
  },
  {
   "metadata": {},
   "cell_type": "markdown",
   "source": [
    "## Justification\n",
    "Decision trees will be overfitting without proper tuning because they can memorise the training data instead of generalising. Cross-validation ensures that the model’s performance is assessed on multiple subsets of the data, while hyperparameter tuning optimises settings like max_depth to improve model generalisation and reduce overfitting or underfitting."
   ]
  },
  {
   "metadata": {},
   "cell_type": "markdown",
   "source": [
    "## Correction\n",
    "Implement GridSearchCV to assess different values for max_depth and identify the optimal setting. Cross-validation with cv=5 can be applied to evaluate performance across data splits. This approach ensures that the decision tree is trained and assessed on diverse data subsets, improving reliability and performance."
   ]
  },
  {
   "metadata": {
    "ExecuteTime": {
     "end_time": "2024-11-02T11:12:04.916175Z",
     "start_time": "2024-11-02T11:12:04.679521Z"
    }
   },
   "cell_type": "code",
   "source": [
    "from sklearn.model_selection import GridSearchCV\n",
    "\n",
    "param_grid = {'max_depth': [2, 4, 6, 8, 10]}\n",
    "grid_search = GridSearchCV(DecisionTreeRegressor(), param_grid, cv=5)\n",
    "grid_search.fit(X_train, y_train)\n",
    "\n",
    "best_tree = grid_search.best_estimator_\n",
    "print(\"Best parameters: \", grid_search.best_params_)"
   ],
   "outputs": [
    {
     "name": "stdout",
     "output_type": "stream",
     "text": [
      "Best parameters:  {'max_depth': 8}\n"
     ]
    }
   ],
   "execution_count": 24
  },
  {
   "metadata": {
    "ExecuteTime": {
     "end_time": "2024-11-02T11:12:04.931307Z",
     "start_time": "2024-11-02T11:12:04.927140Z"
    }
   },
   "cell_type": "code",
   "source": [
    "# Evaluate the optimized model\n",
    "y_pred = best_tree.predict(X_test)\n",
    "mse = mean_squared_error(y_test, y_pred)\n",
    "rmse = np.sqrt(mse)\n",
    "r2 = r2_score(y_test, y_pred)\n",
    "print(\"Optimised Decision Tree Results:\")\n",
    "print(\"MSE:\", mse)\n",
    "print(\"Root MSE:\", rmse)\n",
    "print(\"R^2:\", r2)"
   ],
   "outputs": [
    {
     "name": "stdout",
     "output_type": "stream",
     "text": [
      "Optimised Decision Tree Results:\n",
      "MSE: 381204117.38658637\n",
      "Root MSE: 19524.449221081406\n",
      "R^2: 0.5921358253338629\n"
     ]
    }
   ],
   "execution_count": 25
  },
  {
   "cell_type": "code",
   "source": [
    "# evaluate training set\n",
    "y_pred = regressor.predict(X_train)\n",
    "mse = mean_squared_error(y_train, y_pred)\n",
    "rmse = np.sqrt(mse)\n",
    "r2 = r2_score(y_train, y_pred)\n",
    "print(\"Optimised Decision Tree Results:\")\n",
    "print(\"MSE:\", mse)\n",
    "print(\"Root MSE:\", rmse)\n",
    "print(\"R^2:\", r2)"
   ],
   "metadata": {
    "colab": {
     "base_uri": "https://localhost:8080/"
    },
    "id": "YV693tFutiJE",
    "executionInfo": {
     "status": "ok",
     "timestamp": 1729470985571,
     "user_tz": -660,
     "elapsed": 343,
     "user": {
      "displayName": "Yuzhe Tian",
      "userId": "05567834028890049819"
     }
    },
    "outputId": "cf6622de-27c2-42cb-f808-0bcaf064443e",
    "ExecuteTime": {
     "end_time": "2024-11-02T11:12:04.953643Z",
     "start_time": "2024-11-02T11:12:04.949287Z"
    }
   },
   "outputs": [
    {
     "name": "stdout",
     "output_type": "stream",
     "text": [
      "Optimised Decision Tree Results:\n",
      "MSE: 708084408.7943128\n",
      "Root MSE: 26609.85548240187\n",
      "R^2: 0.3158113893095793\n"
     ]
    }
   ],
   "execution_count": 26
  },
  {
   "cell_type": "markdown",
   "source": "As the performance on training is higher than testing set , we can say it is overfitting.",
   "metadata": {
    "id": "zonqSTu2xu1G"
   }
  },
  {
   "cell_type": "markdown",
   "source": [
    "### Multi-Layer Perceptron (MLP)\n",
    "\n",
    "We then deploy an MLP regression and try to capture the inner non-linear relationship.\n",
    "\n",
    "We would like a double hidden-layer structure with 100 and 100 for each layer respectively.\n",
    "\n",
    "To save the calculation time, we would like to set the max_iteration as 1000."
   ],
   "metadata": {
    "id": "5Q-81Tg9hh4O"
   }
  },
  {
   "cell_type": "code",
   "source": [
    "#regressor = MLPRegressor(\n",
    "  #  solver='adam',\n",
    "  #  activation='identity',\n",
    "   # alpha=0.0001,\n",
    "   # random_state=student_id,\n",
    "   # hidden_layer_sizes=(100,100),\n",
    "    #max_iter=1000\n",
    "#)\n",
    "\n",
    "#regressor.fit(X_train, y_train)"
   ],
   "metadata": {
    "colab": {
     "base_uri": "https://localhost:8080/",
     "height": 98
    },
    "id": "8Hk3HO7cP7Tc",
    "executionInfo": {
     "status": "ok",
     "timestamp": 1729471017418,
     "user_tz": -660,
     "elapsed": 8417,
     "user": {
      "displayName": "Yuzhe Tian",
      "userId": "05567834028890049819"
     }
    },
    "outputId": "66c65e61-3ba1-4385-c59f-daba935d6f90",
    "ExecuteTime": {
     "end_time": "2024-11-02T11:12:04.968180Z",
     "start_time": "2024-11-02T11:12:04.966701Z"
    }
   },
   "outputs": [],
   "execution_count": 27
  },
  {
   "metadata": {
    "ExecuteTime": {
     "end_time": "2024-11-02T11:12:04.982879Z",
     "start_time": "2024-11-02T11:12:04.981102Z"
    }
   },
   "cell_type": "code",
   "source": [
    "# evaluate testing set\n",
    "#y_pred = regressor.predict(X_test)\n",
    "#mse = mean_squared_error(y_test, y_pred)\n",
    "#rmse = np.sqrt(mse)\n",
    "#r2 = r2_score(y_test, y_pred)\n",
    "#print(\"The results for testing set with MLP:\")\n",
    "#print(\"MSE:\", mse)\n",
    "#print(\"Root MSE:\", rmse)\n",
    "#print(\"R^2:\", r2)"
   ],
   "outputs": [],
   "execution_count": 28
  },
  {
   "metadata": {},
   "cell_type": "markdown",
   "source": "# Issue 4: Absence of Hyperparameter Tuning and Cross-Validation in MLP Regressor"
  },
  {
   "metadata": {},
   "cell_type": "markdown",
   "source": [
    "## Identification:\n",
    "The Multi-Layer Perceptron (MLP) Regressor is set up with fixed parameters, and no cross-validation or hyperparameter tuning is performed. This can lead to suboptimal performance due to underfitting or overfitting, as MLP models have complex structures that require parameter adjustments."
   ]
  },
  {
   "metadata": {},
   "cell_type": "markdown",
   "source": [
    "## Justification:\n",
    "MLP models are sensitive to hyperparameters like hidden_layer_sizes, alpha, and max_iter. Fixed settings may not effectively capture the data’s patterns. Hyperparameter tuning with cross-validation allows the model to adjust layer sizes, learning rates, and regularisation, ensuring that the model captures complex relationships in the data without overfitting."
   ]
  },
  {
   "metadata": {},
   "cell_type": "markdown",
   "source": [
    "## Correction\n",
    "The correction replaces the fixed parameters with a grid search approach, tuning the MLPRegressor by testing various hyperparameter combinations. Use GridSearchCV to optimise key hyperparameters for the MLP Regressor, such as hidden_layer_sizes, alpha, and max_iter. Cross-validation with cv=5 during grid search will ensure robust model performance across different subsets. This approach can significantly enhance the model’s predictive performance.\n"
   ]
  },
  {
   "metadata": {
    "ExecuteTime": {
     "end_time": "2024-11-02T11:12:39.224055Z",
     "start_time": "2024-11-02T11:12:04.993914Z"
    }
   },
   "cell_type": "code",
   "source": [
    "from sklearn.model_selection import GridSearchCV\n",
    "\n",
    "param_grid = {\n",
    "    'hidden_layer_sizes': [(100, 100), (50, 50), (100,)],\n",
    "    'alpha': [0.0001, 0.001, 0.01],\n",
    "    'max_iter': [1000, 2000],\n",
    "    'early_stopping': [True]\n",
    "}\n",
    "\n",
    "grid_search = GridSearchCV(MLPRegressor(solver='adam', activation='identity', random_state=student_id), param_grid, cv=5)\n",
    "grid_search.fit(X_train, y_train)\n",
    "\n",
    "best_mlp = grid_search.best_estimator_\n",
    "print(\"Best parameters: \", grid_search.best_params_)"
   ],
   "outputs": [
    {
     "name": "stdout",
     "output_type": "stream",
     "text": [
      "Best parameters:  {'alpha': 0.0001, 'early_stopping': True, 'hidden_layer_sizes': (100,), 'max_iter': 1000}\n"
     ]
    }
   ],
   "execution_count": 29
  },
  {
   "metadata": {
    "ExecuteTime": {
     "end_time": "2024-11-02T11:12:39.239995Z",
     "start_time": "2024-11-02T11:12:39.235089Z"
    }
   },
   "cell_type": "code",
   "source": [
    "# Evaluate the optimized model\n",
    "y_pred = best_mlp.predict(X_test)\n",
    "mse = mean_squared_error(y_test, y_pred)\n",
    "rmse = np.sqrt(mse)\n",
    "r2 = r2_score(y_test, y_pred)\n",
    "print(\"Optimised MLP Results :\")\n",
    "print(\"MSE:\", mse)\n",
    "print(\"Root MSE:\", rmse)\n",
    "print(\"R^2:\", r2)"
   ],
   "outputs": [
    {
     "name": "stdout",
     "output_type": "stream",
     "text": [
      "Optimised MLP Results :\n",
      "MSE: 765037066.9658289\n",
      "Root MSE: 27659.30344325086\n",
      "R^2: 0.18145896732121802\n"
     ]
    }
   ],
   "execution_count": 30
  },
  {
   "cell_type": "code",
   "source": [
    "# evaluate training set\n",
    "y_pred = regressor.predict(X_train)\n",
    "mse = mean_squared_error(y_train, y_pred)\n",
    "rmse = np.sqrt(mse)\n",
    "r2 = r2_score(y_train, y_pred)\n",
    "print(\"Optimised MLP Results :\")\n",
    "print(\"MSE:\", mse)\n",
    "print(\"Root MSE:\", rmse)\n",
    "print(\"R^2:\", r2)"
   ],
   "metadata": {
    "colab": {
     "base_uri": "https://localhost:8080/"
    },
    "id": "oLh-HTast_Il",
    "executionInfo": {
     "status": "ok",
     "timestamp": 1729471026163,
     "user_tz": -660,
     "elapsed": 364,
     "user": {
      "displayName": "Yuzhe Tian",
      "userId": "05567834028890049819"
     }
    },
    "outputId": "72bf6858-e1f8-41e5-e9e9-e9907b0c0a19",
    "ExecuteTime": {
     "end_time": "2024-11-02T11:12:39.259790Z",
     "start_time": "2024-11-02T11:12:39.255793Z"
    }
   },
   "outputs": [
    {
     "name": "stdout",
     "output_type": "stream",
     "text": [
      "Optimised MLP Results :\n",
      "MSE: 708084408.7943128\n",
      "Root MSE: 26609.85548240187\n",
      "R^2: 0.3158113893095793\n"
     ]
    }
   ],
   "execution_count": 31
  },
  {
   "cell_type": "markdown",
   "source": [
    "As the performance of training set and testing set are similar, we can say it is not overfitting."
   ],
   "metadata": {
    "id": "ymevFNcGwsnE"
   }
  },
  {
   "cell_type": "markdown",
   "source": [
    "## Analysis\n",
    "\n",
    "According to the result we have, among these three models (LR, DTR and MLP) the best option for this dataset is DTR. However, the relationships among the features within this dataset are not obvious for these models to catch, thus all the performance are not very satisfying. We might need to further clean the data (*e.g.* remove outliers) or deploy deep learning models for the prediction."
   ],
   "metadata": {
    "id": "y8N53T9rxeX_"
   }
  }
 ],
 "metadata": {
  "interpreter": {
   "hash": "a89ca70b77bf3904d6e71dcc50960c234158b7102660c3bbb1422648282c4bd9"
  },
  "kernelspec": {
   "display_name": "Python 3 (ipykernel)",
   "language": "python",
   "name": "python3"
  },
  "language_info": {
   "codemirror_mode": {
    "name": "ipython",
    "version": 3
   },
   "file_extension": ".py",
   "mimetype": "text/x-python",
   "name": "python",
   "nbconvert_exporter": "python",
   "pygments_lexer": "ipython3",
   "version": "3.9.7"
  },
  "colab": {
   "provenance": []
  }
 },
 "nbformat": 4,
 "nbformat_minor": 0
}
